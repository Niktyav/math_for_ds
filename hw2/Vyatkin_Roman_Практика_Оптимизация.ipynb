{
  "cells": [
    {
      "cell_type": "markdown",
      "metadata": {
        "id": "NyHIGVhfa_Wf"
      },
      "source": [
        "# Стохастический градиентный и координатный спуски"
      ]
    },
    {
      "cell_type": "markdown",
      "metadata": {
        "id": "gn6lluIADUKa"
      },
      "source": [
        "Для каждого задания указано количество баллов (если они оцениваются отдельно) + 1 балл за аккуратное и полное выполнение всего задания"
      ]
    },
    {
      "cell_type": "markdown",
      "metadata": {
        "id": "txCccYvha_Wv"
      },
      "source": [
        "## Загрузка и подготовка данных"
      ]
    },
    {
      "cell_type": "markdown",
      "metadata": {
        "id": "NbyOzeZ6a_Wx"
      },
      "source": [
        "**Загрузите уже знакомый вам файл *Advertising.csv* как объект DataFrame.** "
      ]
    },
    {
      "cell_type": "code",
      "execution_count": 1,
      "metadata": {
        "id": "E1L4_xeDa_Wz"
      },
      "outputs": [],
      "source": [
        "#ваш код\n",
        "import pandas as pd\n",
        "\n",
        "df = pd.read_csv('Advertising.csv')"
      ]
    },
    {
      "cell_type": "markdown",
      "metadata": {
        "id": "bf4aVFndDUKf"
      },
      "source": [
        "**Проверьте, есть ли в данных пропуски и, если они есть - удалите их**"
      ]
    },
    {
      "cell_type": "code",
      "execution_count": 2,
      "metadata": {
        "id": "tiVeFnR5DUKg"
      },
      "outputs": [
        {
          "name": "stdout",
          "output_type": "stream",
          "text": [
            "<class 'pandas.core.frame.DataFrame'>\n",
            "RangeIndex: 200 entries, 0 to 199\n",
            "Data columns (total 5 columns):\n",
            " #   Column      Non-Null Count  Dtype  \n",
            "---  ------      --------------  -----  \n",
            " 0   Unnamed: 0  200 non-null    int64  \n",
            " 1   TV          200 non-null    float64\n",
            " 2   radio       200 non-null    float64\n",
            " 3   newspaper   200 non-null    float64\n",
            " 4   sales       200 non-null    float64\n",
            "dtypes: float64(4), int64(1)\n",
            "memory usage: 7.9 KB\n"
          ]
        }
      ],
      "source": [
        "#ваш код\n",
        "df.info()\n",
        "#пропусков данных нет но столбей \"Unnamed: 0\" не является информативным для регрессии т.к. это порядковый номер "
      ]
    },
    {
      "cell_type": "markdown",
      "metadata": {
        "id": "rTkiqPr_DUKh"
      },
      "source": [
        "**Преобразуйте ваши признаки в массивы NumPy и разделите их на переменные X (предикторы) и y(целевая переменная)** "
      ]
    },
    {
      "cell_type": "code",
      "execution_count": 3,
      "metadata": {
        "id": "R9OHIRB3a_Xa"
      },
      "outputs": [],
      "source": [
        "#ваш код\n",
        "X = df[['TV','radio','newspaper']].values\n",
        "y = df['sales'].values"
      ]
    },
    {
      "cell_type": "markdown",
      "metadata": {
        "id": "KCvjSoHEDUKo"
      },
      "source": [
        "## Координатный спуск (3 балла)"
      ]
    },
    {
      "cell_type": "markdown",
      "metadata": {
        "id": "yjNm8dATDUKq"
      },
      "source": [
        "**Добавим единичный столбец для того, чтобы у нас был свободный коэффициент в уравнении регрессии:**"
      ]
    },
    {
      "cell_type": "code",
      "execution_count": 4,
      "metadata": {
        "id": "LMgq0fmKDUKr"
      },
      "outputs": [],
      "source": [
        "import numpy as np\n",
        "X = np.hstack([np.ones(X.shape[0]).reshape(-1, 1), X])"
      ]
    },
    {
      "cell_type": "markdown",
      "metadata": {
        "id": "R008OQwcDUKt"
      },
      "source": [
        "**Нормализуем данные: обычно это необходимо для корректной работы алгоритма**"
      ]
    },
    {
      "cell_type": "code",
      "execution_count": 5,
      "metadata": {
        "id": "2Sk7Wx-SDUKt"
      },
      "outputs": [],
      "source": [
        "X = X / np.sqrt(np.sum(np.square(X), axis=0))"
      ]
    },
    {
      "cell_type": "markdown",
      "metadata": {
        "id": "F_pHHbAdDUKu"
      },
      "source": [
        "**Реализуйте алгоритм координатного спуска:** (3 балла)\n",
        "\n",
        "Ниже приведен алгоритм:"
      ]
    },
    {
      "cell_type": "markdown",
      "metadata": {
        "id": "jBQ8vT5UDUKu"
      },
      "source": [
        "<a href=\"https://ibb.co/Th3BQFn\"><img src=\"https://i.ibb.co/DK2DBS6/zascas.jpg\" alt=\"zascas\" border=\"0\"></a>"
      ]
    },
    {
      "cell_type": "markdown",
      "metadata": {
        "id": "5ce_yM20DUKv"
      },
      "source": [
        "Примечание: 1000 итераций здесь указаны для этого задания, на самом деле их может быть намного больше, нет детерменированного значения."
      ]
    },
    {
      "cell_type": "markdown",
      "metadata": {
        "id": "y3IdiHm9DUKv"
      },
      "source": [
        "Вам необходимо реализовать координатный спуск, и вывести веса в модели линейной регрессии."
      ]
    },
    {
      "cell_type": "code",
      "execution_count": 6,
      "metadata": {
        "id": "Vsi3d9OfDUKw"
      },
      "outputs": [
        {
          "name": "stdout",
          "output_type": "stream",
          "text": [
            "Optimized weights: [ 41.56239272 110.13144169  73.52855119  -0.55019976]\n"
          ]
        }
      ],
      "source": [
        "#ваш код\n",
        "\n",
        "def coordinate_descent(X, y, max_iter=1000, tol=1e-4):\n",
        "    n_samples, n_features = X.shape\n",
        "    w = np.zeros(n_features)  # Инициализация весов\n",
        "    \n",
        "    for iteration in range(max_iter):\n",
        "        prev_w = np.copy(w)\n",
        "        \n",
        "        for j in range(n_features):\n",
        "            # Фиксируем все переменные, кроме j-ой\n",
        "            X_j = np.delete(X, j, axis=1)\n",
        "            w_j = np.delete(w, j)\n",
        "            \n",
        "            # Вычисляем остатки\n",
        "            residuals = y - np.dot(X_j, w_j)\n",
        "            \n",
        "            # Вычисляем коэффициент для j-ой переменной\n",
        "            x_j = X[:, j]\n",
        "            w[j] = np.dot(x_j, residuals) / np.dot(x_j, x_j)\n",
        "            \n",
        "        # Проверка на сходимость\n",
        "        if np.linalg.norm(w - prev_w) < tol:\n",
        "            break\n",
        "    \n",
        "    return w\n",
        "\n",
        "\n",
        "# Выполним координатный спуск для оптимизации параметров модели\n",
        "weights = coordinate_descent(X, y)\n",
        "print(\"Optimized weights:\", weights)"
      ]
    },
    {
      "cell_type": "markdown",
      "metadata": {
        "id": "a3jG-7UADUKx"
      },
      "source": [
        "Сравните результаты с реализацией линейной регрессии из библиотеки sklearn:"
      ]
    },
    {
      "cell_type": "code",
      "execution_count": 7,
      "metadata": {
        "id": "SBl-1Yb5DUKy"
      },
      "outputs": [
        {
          "name": "stdout",
          "output_type": "stream",
          "text": [
            "[ 41.56217205 110.13144155  73.52860638  -0.55006384]\n"
          ]
        }
      ],
      "source": [
        "from sklearn.linear_model import LinearRegression\n",
        " \n",
        "model = LinearRegression(fit_intercept=False)\n",
        "model.fit(X, y)\n",
        " \n",
        "print(model.coef_)"
      ]
    },
    {
      "cell_type": "markdown",
      "metadata": {
        "id": "hIl0AGLyDUKy"
      },
      "source": [
        "Если вы все сделали верно, они должны практически совпасть!"
      ]
    },
    {
      "cell_type": "markdown",
      "metadata": {
        "id": "VCGwFnPdDUKz"
      },
      "source": [
        "## Стохастический градиентный спуск (6 баллов)"
      ]
    },
    {
      "cell_type": "markdown",
      "metadata": {
        "id": "5u7Q2YJla_Xk"
      },
      "source": [
        "**Отмасштабируйте столбцы исходной матрицы *X* (которую мы не нормализовали еще!). Для того, чтобы это сделать, надо вычесть из каждого значения среднее и разделить на стандартное отклонение** (0.5 баллов)"
      ]
    },
    {
      "cell_type": "code",
      "execution_count": 8,
      "metadata": {
        "id": "9cEpV_5La_Xo"
      },
      "outputs": [],
      "source": [
        "#ваш код\n",
        "\n",
        "# восстановим Х \n",
        "X = df[['TV','radio','newspaper']].values\n",
        "#Отмасштабируем столбцы исходной матрицы\n",
        "X=(X-np.mean(X, axis=0))/np.std(X, axis=0)"
      ]
    },
    {
      "cell_type": "markdown",
      "metadata": {
        "id": "8WkNYILHDUK1"
      },
      "source": [
        "**Добавим единичный столбец**"
      ]
    },
    {
      "cell_type": "code",
      "execution_count": 9,
      "metadata": {
        "id": "EVl5tEGtDUK1"
      },
      "outputs": [],
      "source": [
        "X = np.hstack([np.ones(X.shape[0]).reshape(-1, 1), X])"
      ]
    },
    {
      "cell_type": "markdown",
      "metadata": {
        "id": "m53tZA5fDUK1"
      },
      "source": [
        "**Создайте функцию mse_error для вычисления среднеквадратичной ошибки, принимающую два аргумента: реальные значения и предсказывающие, и возвращающую значение mse** (0.5 балла)"
      ]
    },
    {
      "cell_type": "code",
      "execution_count": 10,
      "metadata": {
        "id": "0cvtC08Aa_YK"
      },
      "outputs": [],
      "source": [
        "#ваш код\n",
        "\n",
        "def mse_error(y_true, y_pred):\n",
        "    \"\"\"\n",
        "    Вычисляет среднеквадратичную ошибку между реальными значениями и предсказанными значениями.\n",
        "\n",
        "    Args:\n",
        "    y_true: numpy array, массив реальных значений\n",
        "    y_pred: numpy array, массив предсказанных значений\n",
        "\n",
        "    Returns:\n",
        "    mse: float, значение среднеквадратичной ошибки\n",
        "    \"\"\"\n",
        "    # Проверка на соответствие размерности массивов\n",
        "    assert len(y_true) == len(y_pred), \"Размеры массивов y_true и y_pred должны совпадать\"\n",
        "    \n",
        "    # Вычисление среднеквадратичной ошибки\n",
        "    mse = np.mean((y_true - y_pred) ** 2)\n",
        "    \n",
        "    return mse"
      ]
    },
    {
      "cell_type": "markdown",
      "metadata": {
        "id": "lpOLhdvBDUK2"
      },
      "source": [
        "**Сделайте наивный прогноз: предскажите продажи средним значением. После этого рассчитайте среднеквадратичную ошибку для этого прогноза** (0.5 балла)"
      ]
    },
    {
      "cell_type": "code",
      "execution_count": 11,
      "metadata": {
        "id": "kLV_XljVa_YZ"
      },
      "outputs": [
        {
          "name": "stdout",
          "output_type": "stream",
          "text": [
            "Mean Squared Error (MSE) для наивного прогноза: 27.085743750000002\n"
          ]
        }
      ],
      "source": [
        "#ваш код\n",
        "# Вычисляем среднее значение продаж\n",
        "mean_sales = np.mean(y)\n",
        "\n",
        "# Создаем массив предсказаний, используя среднее значение продаж\n",
        "predicted_sales = np.full_like(y, fill_value=mean_sales)\n",
        "\n",
        "# Вычисляем среднеквадратичную ошибку (MSE) для наивного прогноза\n",
        "mse_naive = mse_error(y,predicted_sales)\n",
        "\n",
        "print(\"Mean Squared Error (MSE) для наивного прогноза:\", mse_naive)"
      ]
    },
    {
      "cell_type": "markdown",
      "metadata": {
        "id": "BbybL2ola_ZM"
      },
      "source": [
        "**Создайте функцию *lin_pred*, которая может по матрице предикторов *X* и вектору весов линейной модели *w* получить вектор прогнозов** (0.5 балла)"
      ]
    },
    {
      "cell_type": "code",
      "execution_count": 12,
      "metadata": {
        "id": "1Cyz-Luaa_ZO"
      },
      "outputs": [],
      "source": [
        "#ваш код\n",
        "def lin_pred(X, w):\n",
        "    \"\"\"\n",
        "    Вычисляет вектор прогнозов для линейной модели.\n",
        "\n",
        "    Аргументы:\n",
        "    X: numpy array, матрица предикторов размерности (n_samples, n_features).\n",
        "    w: numpy array, вектор весов размерности (n_features,).\n",
        "\n",
        "    Возвращает:\n",
        "    y_pred: numpy array, вектор прогнозов размерности (n_samples,).\n",
        "    \"\"\"\n",
        "    y_pred = np.dot(X, w)\n",
        "    return y_pred"
      ]
    },
    {
      "cell_type": "markdown",
      "metadata": {
        "id": "BU4adBrya_Zm"
      },
      "source": [
        "**Создайте функцию *stoch_grad_step* для реализации шага стохастического градиентного спуска. (1.5 балла) \n",
        "Функция должна принимать на вход следующие аргументы:**\n",
        "* матрицу *X*\n",
        "* вектора *y* и *w*\n",
        "* число *train_ind* - индекс объекта обучающей выборки (строки матрицы *X*), по которому считается изменение весов\n",
        "* число *$\\eta$* (eta) - шаг градиентного спуска\n",
        "\n",
        "Результатом будет вектор обновленных весов"
      ]
    },
    {
      "cell_type": "markdown",
      "metadata": {
        "id": "dyLY-P02DUK5"
      },
      "source": [
        "Шаг для стохастического градиентного спуска выглядит следующим образом:"
      ]
    },
    {
      "cell_type": "markdown",
      "metadata": {
        "id": "ORsAyIKNDUK5"
      },
      "source": [
        "$$\\Large w_j \\leftarrow w_j - \\frac{2\\eta}{\\ell} \\sum_{i=1}^\\ell{{x_{ij}((w_0 + w_1x_{i1} + w_2x_{i2} +  w_3x_{i3}) - y_i)}}$$"
      ]
    },
    {
      "cell_type": "markdown",
      "metadata": {
        "id": "CQl2FrpuDUK6"
      },
      "source": [
        "Для того, чтобы написать функцию, нужно сделать следующее:\n",
        "    \n",
        "*  посчитать направление изменения: умножить объект обучающей выборки на 2 и на разницу между предсказанным значением и реальным, а потом поделить на количество элементов в выборке.\n",
        "* вернуть разницу между вектором весов и направлением изменения, умноженным на шаг градиентного спуска"
      ]
    },
    {
      "cell_type": "code",
      "execution_count": 13,
      "metadata": {
        "id": "YUhVQGsja_Zn"
      },
      "outputs": [],
      "source": [
        "#ваш код\n",
        "def stoch_grad_step(X, y, w, train_ind, eta):\n",
        "    \"\"\"\n",
        "    Реализует один шаг стохастического градиентного спуска.\n",
        "\n",
        "    Аргументы:\n",
        "    X: numpy array, матрица предикторов размерности (n_samples, n_features).\n",
        "    y: numpy array, вектор истинных значений размерности (n_samples,).\n",
        "    w: numpy array, вектор весов размерности (n_features,).\n",
        "    train_ind: int, индекс объекта обучающей выборки.\n",
        "    eta: float, шаг градиентного спуска.\n",
        "\n",
        "    Возвращает:\n",
        "    w_new: numpy array, вектор обновленных весов размерности (n_features,).\n",
        "    \"\"\"\n",
        "    # Получаем предсказание для выбранного объекта\n",
        "    y_pred = np.dot(X[train_ind], w)\n",
        "    # Вычисляем направление изменения\n",
        "    direction = 2 * X[train_ind] * (y_pred - y[train_ind]) / len(y)\n",
        "    # Обновляем веса\n",
        "    w_new = w - eta * direction\n",
        "    return w_new"
      ]
    },
    {
      "cell_type": "markdown",
      "metadata": {
        "id": "pXwIFd0Ma_Zx"
      },
      "source": [
        "**Создайте функцию *stochastic_gradient_descent*, для реализации стохастического градиентного спуска (2.5 балла)**\n",
        "\n",
        "**Функция принимает на вход следующие аргументы:**\n",
        "- Матрицу признаков X\n",
        "- Целевую переменнную\n",
        "- Изначальную точку (веса модели)\n",
        "- Параметр, определяющий темп обучения\n",
        "- Максимальное число итераций\n",
        "- Евклидово расстояние между векторами весов на соседних итерациях градиентного спуска,при котором алгоритм прекращает работу \n",
        "\n",
        "**На каждой итерации в вектор (список) должно записываться текущее значение среднеквадратичной ошибки. Функция должна возвращать вектор весов $w$, а также вектор (список) ошибок.**"
      ]
    },
    {
      "cell_type": "markdown",
      "metadata": {
        "id": "ZVeoNF1JDUK7"
      },
      "source": [
        "Алгоритм сследующий:\n",
        "    \n",
        "* Инициализируйте расстояние между векторами весов на соседних итерациях большим числом (можно бесконечностью)\n",
        "* Создайте пустой список для фиксации ошибок\n",
        "* Создайте счетчик итераций\n",
        "* Реализуйте оновной цикл обучения пока расстояние между векторами весов больше того, при котором надо прекратить работу (когда расстояния станут слишком маленькими - значит, мы застряли в одном месте) и количество итераций меньше максимально разрешенного: сгенерируйте случайный индекс, запишите текущую ошибку в вектор ошибок, запишите в переменную текущий шаг стохастического спуска с использованием функции, написанной ранее. Далее рассчитайте текущее расстояние между векторами весов и прибавьте к счетчику итераций 1.\n",
        "* Верните вектор весов и вектор ошибок"
      ]
    },
    {
      "cell_type": "code",
      "execution_count": 14,
      "metadata": {
        "id": "CD_xcFNfa_Zy"
      },
      "outputs": [],
      "source": [
        "# ваш код\n",
        "\n",
        "def stochastic_gradient_descent(X, y, w_init, eta, max_iter, tol):\n",
        "    \"\"\"\n",
        "    Реализует стохастический градиентный спуск.\n",
        "\n",
        "    Аргументы:\n",
        "    X: numpy array, матрица предикторов размерности (n_samples, n_features).\n",
        "    y: numpy array, вектор истинных значений размерности (n_samples,).\n",
        "    w_init: numpy array, начальные веса размерности (n_features,).\n",
        "    eta: float, шаг градиентного спуска.\n",
        "    max_iter: int, максимальное число итераций.\n",
        "    tol: float, пороговое значение для расстояния между векторами весов на соседних итерациях.\n",
        "\n",
        "    Возвращает:\n",
        "    w: numpy array, вектор весов.\n",
        "    errors: list, список значений среднеквадратичной ошибки на каждой итерации.\n",
        "    \"\"\"\n",
        "    # Инициализируем расстояние между векторами весов на соседних итерациях\n",
        "    dist = np.inf\n",
        "    # Создаем пустой список для фиксации ошибок\n",
        "    errors = []\n",
        "    # Создаем счетчик итераций\n",
        "    iter_count = 0\n",
        "    # Выполняем цикл до выполнения критерия останова\n",
        "    while dist > tol and iter_count < max_iter:\n",
        "        # Выбираем случайный индекс объекта обучающей выборки\n",
        "        train_ind = np.random.randint(X.shape[0])\n",
        "        # Фиксируем текущую ошибку\n",
        "        errors.append(mse_error(y, np.dot(X, w_init)))\n",
        "        # Выполняем один шаг стохастического градиентного спуска\n",
        "        w_new = stoch_grad_step(X, y, w_init, train_ind, eta)\n",
        "        # Вычисляем расстояние между векторами весов на соседних итерациях\n",
        "        dist = np.linalg.norm(w_new - w_init)\n",
        "        # Обновляем веса\n",
        "        w_init = w_new\n",
        "        # Увеличиваем счетчик итераций\n",
        "        iter_count += 1\n",
        "    return w_init, errors"
      ]
    },
    {
      "cell_type": "markdown",
      "metadata": {
        "id": "0OqHO1Rta_Z7"
      },
      "source": [
        " **Запустите $10^5$ итераций стохастического градиентного спуска. Укажите вектор начальных весов, состоящий из нулей. Можете поэкспериментировать с параметром, отвечающим за темп обучения.**"
      ]
    },
    {
      "cell_type": "markdown",
      "metadata": {
        "id": "N6fHHT6vDUK8"
      },
      "source": [
        "**Постройте график зависимости ошибки от номера итерации**"
      ]
    },
    {
      "cell_type": "code",
      "execution_count": 15,
      "metadata": {
        "id": "zsSfHDzLDUK9"
      },
      "outputs": [
        {
          "data": {
            "image/png": "[encoded data removed]",
            "text/plain": [
              "<Figure size 640x480 with 1 Axes>"
            ]
          },
          "metadata": {},
          "output_type": "display_data"
        }
      ],
      "source": [
        "# ваш код\n",
        "import matplotlib.pyplot as plt\n",
        "\n",
        "np.random.seed(42)\n",
        "\n",
        "# Параметры стохастического градиентного спуска\n",
        "eta = 0.2\n",
        "max_iter = 10**5\n",
        "tol = 1e-5\n",
        "\n",
        "# Начальные веса (все нули)\n",
        "w_init = np.zeros(X.shape[1])\n",
        "\n",
        "# Запуск стохастического градиентного спуска\n",
        "w_final, errors = stochastic_gradient_descent(X, y.flatten(), w_init, eta, max_iter, tol)\n",
        "\n",
        "# Построение графика зависимости ошибки от номера итерации\n",
        "plt.plot(range(1, len(errors) + 1), errors, marker='o', linestyle='-')\n",
        "plt.xlabel('Номер итерации')\n",
        "plt.ylabel('Ошибка')\n",
        "plt.title('Зависимость ошибки от номера итерации')\n",
        "plt.grid(True)\n",
        "plt.show()\n",
        "\n"
      ]
    },
    {
      "cell_type": "markdown",
      "metadata": {
        "id": "O-MVOcJ6a_aY"
      },
      "source": [
        "**Выведите вектор весов, к которому сошелся метод.**"
      ]
    },
    {
      "cell_type": "code",
      "execution_count": 16,
      "metadata": {
        "id": "MPjVkXe4DUK9"
      },
      "outputs": [
        {
          "name": "stdout",
          "output_type": "stream",
          "text": [
            "Финальные веса модели: [13.77540231  3.94401522  2.71133019  0.06526631]\n"
          ]
        }
      ],
      "source": [
        "# ваш код\n",
        "\n",
        "# Вывод полученных весов\n",
        "print('Финальные веса модели:', w_final)"
      ]
    },
    {
      "cell_type": "markdown",
      "metadata": {
        "id": "qabzMc3Qa_a5"
      },
      "source": [
        "**Выведите среднеквадратичную ошибку на последней итерации.**"
      ]
    },
    {
      "cell_type": "code",
      "execution_count": 17,
      "metadata": {
        "id": "7tPWleMIa_a7"
      },
      "outputs": [
        {
          "name": "stdout",
          "output_type": "stream",
          "text": [
            "Mean Squared Error (MSE) для стохастического градиентного спуска: 2.85503107823194\n"
          ]
        }
      ],
      "source": [
        "# ваш код\n",
        "y_pred =  lin_pred(X,w_final)\n",
        "mse_sgd = mse_error(y,y_pred)\n",
        "print(\"Mean Squared Error (MSE) для стохастического градиентного спуска:\", mse_sgd)"
      ]
    },
    {
      "cell_type": "markdown",
      "metadata": {},
      "source": [
        "***Дополнительное задание***"
      ]
    },
    {
      "cell_type": "markdown",
      "metadata": {},
      "source": [
        "в данном кейсе мы решаем задачу регрессии потому для сравнения будем использовать SGDRegressor из библиотеки sklearn"
      ]
    },
    {
      "cell_type": "code",
      "execution_count": 22,
      "metadata": {},
      "outputs": [],
      "source": [
        "from sklearn.linear_model import SGDRegressor\n",
        "from sklearn.preprocessing import StandardScaler\n",
        "from sklearn.pipeline import make_pipeline\n",
        "from sklearn.metrics import mean_squared_error\n",
        "# восстановим Х \n",
        "X = df[['TV','radio','newspaper']].values\n",
        "reg = make_pipeline(StandardScaler(),\n",
        "                    SGDRegressor(max_iter=1000, tol=1e-3))\n",
        "reg.fit(X, y)\n",
        "\n",
        "y_pred_sklearn = reg.predict(X)\n",
        "\n"
      ]
    },
    {
      "cell_type": "markdown",
      "metadata": {},
      "source": [
        "***Оцените качество с помощью среднеквадратичной ошибки и сравните результат с результатом алгоритма, реализованного вами самостоятельно.***"
      ]
    },
    {
      "cell_type": "code",
      "execution_count": 23,
      "metadata": {},
      "outputs": [
        {
          "name": "stdout",
          "output_type": "stream",
          "text": [
            "Mean Squared Error (MSE) для стохастического градиентного спуска из библиотеки: 2.7843738129498417\n"
          ]
        }
      ],
      "source": [
        "mse_sgd_sklearn = mean_squared_error(y,y_pred_sklearn)\n",
        "print(\"Mean Squared Error (MSE) для стохастического градиентного спуска из библиотеки:\", mse_sgd_sklearn)\n",
        "\n",
        "# Ошибка самостоятельбно реализованного стохастического градиентного спуска значительно ниже чем наивновного предсказания,\n",
        "# но библиотечний класс несколько лучше самостоятельно реализованного SGD при правильном подборе шага градиентного спуска"
      ]
    },
    {
      "cell_type": "markdown",
      "metadata": {},
      "source": [
        "***В одном из предыдущих модулей качество решения задачи регрессии оценивалось с помощью ещё одной метрики. Найдите её реализацию в библиотеке sklearn и оцените качество полученной модели.***"
      ]
    },
    {
      "cell_type": "code",
      "execution_count": 24,
      "metadata": {},
      "outputs": [
        {
          "name": "stdout",
          "output_type": "stream",
          "text": [
            "Mean absolute  Error (MAE) для стохастического градиентного спуска из библиотеки: 1.253\n",
            "Mean absolute  Error (MAE) для стохастического градиентного спуска: 1.253\n",
            "Mean absolute percentage error (MAPE) для стохастического градиентного спуска из библиотеки: 13.86\n",
            "Mean absolute percentage error (MAPE) для стохастического градиентного спуска: 13.86\n"
          ]
        }
      ],
      "source": [
        "from sklearn.metrics import mean_absolute_percentage_error\n",
        "from sklearn.metrics import mean_absolute_error\n",
        "\n",
        "mae_sgd_sklearn = mean_absolute_error(y,y_pred_sklearn)\n",
        "mae_sgd = mean_absolute_error(y,y_pred)\n",
        "\n",
        "print(\"Mean absolute  Error (MAE) для стохастического градиентного спуска из библиотеки:\", round(mae_sgd_sklearn,3))\n",
        "print(\"Mean absolute  Error (MAE) для стохастического градиентного спуска:\", round(mae_sgd_sklearn,3))\n",
        "\n",
        "mape_sgd_sklearn = mean_absolute_percentage_error(y,y_pred_sklearn)\n",
        "mape_sgd = mean_absolute_percentage_error(y,y_pred)\n",
        "\n",
        "print(\"Mean absolute percentage error (MAPE) для стохастического градиентного спуска из библиотеки:\", round(mape_sgd_sklearn*100,2))\n",
        "print(\"Mean absolute percentage error (MAPE) для стохастического градиентного спуска:\", round(mape_sgd_sklearn*100,2))\n"
      ]
    },
    {
      "cell_type": "markdown",
      "metadata": {},
      "source": [
        "***Выводы***\n",
        "\n",
        "полученная модель по показателям практически не отличается от библиотечной реализации."
      ]
    }
  ],
  "metadata": {
    "colab": {
      "collapsed_sections": [],
      "name": "Практика_Оптимизация.ipynb",
      "provenance": [],
      "toc_visible": true
    },
    "kernelspec": {
      "display_name": "Python 3 (ipykernel)",
      "language": "python",
      "name": "python3"
    },
    "language_info": {
      "codemirror_mode": {
        "name": "ipython",
        "version": 3
      },
      "file_extension": ".py",
      "mimetype": "text/x-python",
      "name": "python",
      "nbconvert_exporter": "python",
      "pygments_lexer": "ipython3",
      "version": "3.11.8"
    }
  },
  "nbformat": 4,
  "nbformat_minor": 0
}
