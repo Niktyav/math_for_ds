{
  "cells": [
    {
      "cell_type": "markdown",
      "id": "b054bd88",
      "metadata": {
        "id": "b054bd88"
      },
      "source": [
        "# <center> Линейная алгебра в контексте линейных методов. Практика.\n",
        "\n",
        "## <center> Прогнозирование выработки газа на скважинах."
      ]
    },
    {
      "cell_type": "markdown",
      "id": "325bc80b",
      "metadata": {
        "id": "325bc80b"
      },
      "source": [
        "## Постановка задачи"
      ]
    },
    {
      "cell_type": "markdown",
      "id": "8247bd54",
      "metadata": {
        "id": "8247bd54"
      },
      "source": [
        "У Василия, основателя компании «Газ-Таз-Ваз-Нефть», дела идут в гору: у него уже функционирует 200 скважин для добычи газа. В этом году он открывает 30 новых скважин. Однако в целях оптимизации расходов и повышения дохода Василию необходимо оценить, сколько денег будет приносить ему каждая из скважин, а также понять, какие факторы (параметры скважин) потенциально сильнее всего повлияют на объём добычи газа. Для этого Василий решил нанять вас как специалиста в области Data Science.\n",
        "\n",
        "Василий представляет вам набор данных о добыче газа на своих скважинах. Файл с данными вы можете скачать на платформе.\n",
        "\n",
        "**Признаки в данных:**\n",
        "\n",
        "* Well — идентификатор скважины;\n",
        "* Por — пористость скважины (%);\n",
        "* Perm — проницаемость скважины;\n",
        "* AI — акустический импеданс ($кг/м^2 * 10^6$);\n",
        "* Brittle — коэффициент хрупкости скважины (%);\n",
        "* TOC — общий органический углерод (%);\n",
        "* VR — коэффициент отражения витринита (%);\n",
        "* Prod — добыча газа в сутки (млн. кубических футов).\n",
        "\n",
        "**Ваша задача** — построить регрессионную модель, которая прогнозирует выработку газа на скважине (целевой признак — Prod) на основе остальных характеристик скважины, и проинтерпретировать результаты вашей модели.\n",
        "\n",
        "Разделим задачу на две части:\n",
        "* В первой мы построим простейшую модель линейной регрессии, проанализируем результаты её работы и выберем наиболее значимые факторы для прогнозирования.\n",
        "* Во второй мы займёмся построением модели полиномиальной регрессии с регуляризацией и посмотрим на итоговые результаты моделирования.\n"
      ]
    },
    {
      "cell_type": "markdown",
      "id": "d67d069e",
      "metadata": {
        "id": "d67d069e"
      },
      "source": [
        "Импортируем необходимые библиотеки:"
      ]
    },
    {
      "cell_type": "code",
      "execution_count": 1,
      "id": "83a555bc-8dff-4b7e-bba1-cd4f4a9e69b2",
      "metadata": {
        "id": "83a555bc-8dff-4b7e-bba1-cd4f4a9e69b2"
      },
      "outputs": [],
      "source": [
        "# Импорт библиотек\n",
        "import numpy as np # для работы с массивами\n",
        "import pandas as pd # для работы с DataFrame \n",
        "import seaborn as sns # библиотека для визуализации статистических данных\n",
        "import matplotlib.pyplot as plt # для построения графиков\n",
        "\n",
        "%matplotlib inline"
      ]
    },
    {
      "cell_type": "markdown",
      "id": "e689ddaf",
      "metadata": {
        "id": "e689ddaf"
      },
      "source": [
        "Прочитаем исходные данные:"
      ]
    },
    {
      "cell_type": "code",
      "execution_count": 2,
      "id": "b7b5cd9b-703f-4dbc-a6e3-61d583eafcac",
      "metadata": {
        "colab": {
          "base_uri": "https://localhost:8080/",
          "height": 206
        },
        "id": "b7b5cd9b-703f-4dbc-a6e3-61d583eafcac",
        "outputId": "d4e99a48-2a0d-4edd-f86c-617c44bf36d2"
      },
      "outputs": [
        {
          "data": {
            "text/html": [
              "<div>\n",
              "<style scoped>\n",
              "    .dataframe tbody tr th:only-of-type {\n",
              "        vertical-align: middle;\n",
              "    }\n",
              "\n",
              "    .dataframe tbody tr th {\n",
              "        vertical-align: top;\n",
              "    }\n",
              "\n",
              "    .dataframe thead th {\n",
              "        text-align: right;\n",
              "    }\n",
              "</style>\n",
              "<table border=\"1\" class=\"dataframe\">\n",
              "  <thead>\n",
              "    <tr style=\"text-align: right;\">\n",
              "      <th></th>\n",
              "      <th>Well</th>\n",
              "      <th>Por</th>\n",
              "      <th>Perm</th>\n",
              "      <th>AI</th>\n",
              "      <th>Brittle</th>\n",
              "      <th>TOC</th>\n",
              "      <th>VR</th>\n",
              "      <th>Prod</th>\n",
              "    </tr>\n",
              "  </thead>\n",
              "  <tbody>\n",
              "    <tr>\n",
              "      <th>0</th>\n",
              "      <td>1</td>\n",
              "      <td>12.08</td>\n",
              "      <td>2.92</td>\n",
              "      <td>2.80</td>\n",
              "      <td>81.40</td>\n",
              "      <td>1.16</td>\n",
              "      <td>2.31</td>\n",
              "      <td>4165.196191</td>\n",
              "    </tr>\n",
              "    <tr>\n",
              "      <th>1</th>\n",
              "      <td>2</td>\n",
              "      <td>12.38</td>\n",
              "      <td>3.53</td>\n",
              "      <td>3.22</td>\n",
              "      <td>46.17</td>\n",
              "      <td>0.89</td>\n",
              "      <td>1.88</td>\n",
              "      <td>3561.146205</td>\n",
              "    </tr>\n",
              "    <tr>\n",
              "      <th>2</th>\n",
              "      <td>3</td>\n",
              "      <td>14.02</td>\n",
              "      <td>2.59</td>\n",
              "      <td>4.01</td>\n",
              "      <td>72.80</td>\n",
              "      <td>0.89</td>\n",
              "      <td>2.72</td>\n",
              "      <td>4284.348574</td>\n",
              "    </tr>\n",
              "    <tr>\n",
              "      <th>3</th>\n",
              "      <td>4</td>\n",
              "      <td>17.67</td>\n",
              "      <td>6.75</td>\n",
              "      <td>2.63</td>\n",
              "      <td>39.81</td>\n",
              "      <td>1.08</td>\n",
              "      <td>1.88</td>\n",
              "      <td>5098.680869</td>\n",
              "    </tr>\n",
              "    <tr>\n",
              "      <th>4</th>\n",
              "      <td>5</td>\n",
              "      <td>17.52</td>\n",
              "      <td>4.57</td>\n",
              "      <td>3.18</td>\n",
              "      <td>10.94</td>\n",
              "      <td>1.51</td>\n",
              "      <td>1.90</td>\n",
              "      <td>3406.132832</td>\n",
              "    </tr>\n",
              "  </tbody>\n",
              "</table>\n",
              "</div>"
            ],
            "text/plain": [
              "   Well    Por  Perm    AI  Brittle   TOC    VR         Prod\n",
              "0     1  12.08  2.92  2.80    81.40  1.16  2.31  4165.196191\n",
              "1     2  12.38  3.53  3.22    46.17  0.89  1.88  3561.146205\n",
              "2     3  14.02  2.59  4.01    72.80  0.89  2.72  4284.348574\n",
              "3     4  17.67  6.75  2.63    39.81  1.08  1.88  5098.680869\n",
              "4     5  17.52  4.57  3.18    10.94  1.51  1.90  3406.132832"
            ]
          },
          "execution_count": 2,
          "metadata": {},
          "output_type": "execute_result"
        }
      ],
      "source": [
        "data = pd.read_csv('data/unconv.csv')\n",
        "data.head()"
      ]
    },
    {
      "cell_type": "markdown",
      "id": "58639b40",
      "metadata": {
        "id": "58639b40"
      },
      "source": [
        "## Практика: линейная регрессия по методу наименьших квадратов"
      ]
    },
    {
      "cell_type": "markdown",
      "id": "a90535b8",
      "metadata": {
        "id": "a90535b8"
      },
      "source": [
        "Для начала построим простейшую модель линейной регрессии, проанализируем результаты её работы и выберем наиболее значимые факторы для прогнозирования.\n",
        "\n",
        "В первой части вам предстоит выполнить задания 5.0–5.6. Максимальное количество баллов, которое можно получить, — 9."
      ]
    },
    {
      "cell_type": "markdown",
      "id": "4061b706",
      "metadata": {
        "id": "4061b706"
      },
      "source": [
        "### Задание 5.0. (не оценивается)\n",
        "\n",
        "Проведите небольшой разведывательный анализ, чтобы поближе познакомиться с исходными данными. Постройте несколько визуализаций, которые помогут вам понять, как устроены исходные признаки, а также смогут продемонстрировать взаимосвязь факторов. \n",
        "\n",
        "Сделайте промежуточные выводы из проведённого разведывательного анализа."
      ]
    },
    {
      "cell_type": "code",
      "execution_count": 3,
      "id": "daf1ccc7",
      "metadata": {
        "id": "daf1ccc7"
      },
      "outputs": [
        {
          "name": "stdout",
          "output_type": "stream",
          "text": [
            "размеры датасета =  (200, 8)\n",
            "<class 'pandas.core.frame.DataFrame'>\n",
            "RangeIndex: 200 entries, 0 to 199\n",
            "Data columns (total 8 columns):\n",
            " #   Column   Non-Null Count  Dtype  \n",
            "---  ------   --------------  -----  \n",
            " 0   Well     200 non-null    int64  \n",
            " 1   Por      200 non-null    float64\n",
            " 2   Perm     200 non-null    float64\n",
            " 3   AI       200 non-null    float64\n",
            " 4   Brittle  200 non-null    float64\n",
            " 5   TOC      200 non-null    float64\n",
            " 6   VR       200 non-null    float64\n",
            " 7   Prod     200 non-null    float64\n",
            "dtypes: float64(7), int64(1)\n",
            "memory usage: 12.6 KB\n",
            "None\n",
            "             Well         Por        Perm          AI     Brittle         TOC   \n",
            "count  200.000000  200.000000  200.000000  200.000000  200.000000  200.000000  \\\n",
            "mean   100.500000   14.991150    4.330750    2.968850   48.161950    0.990450   \n",
            "std     57.879185    2.971176    1.731014    0.566885   14.129455    0.481588   \n",
            "min      1.000000    6.550000    1.130000    1.280000   10.940000   -0.190000   \n",
            "25%     50.750000   12.912500    3.122500    2.547500   37.755000    0.617500   \n",
            "50%    100.500000   15.070000    4.035000    2.955000   49.510000    1.030000   \n",
            "75%    150.250000   17.402500    5.287500    3.345000   58.262500    1.350000   \n",
            "max    200.000000   23.550000    9.870000    4.630000   84.330000    2.180000   \n",
            "\n",
            "               VR         Prod  \n",
            "count  200.000000   200.000000  \n",
            "mean     1.964300  4311.219852  \n",
            "std      0.300827   992.038414  \n",
            "min      0.930000  2107.139414  \n",
            "25%      1.770000  3618.064513  \n",
            "50%      1.960000  4284.687348  \n",
            "75%      2.142500  5086.089761  \n",
            "max      2.870000  6662.622385  \n"
          ]
        },
        {
          "data": {
            "text/plain": [
              "<Axes: xlabel='Prod', ylabel='Count'>"
            ]
          },
          "execution_count": 3,
          "metadata": {},
          "output_type": "execute_result"
        },
        {
          "data": {
            "image/png": "[encoded data removed]",
            "text/plain": [
              "<Figure size 640x480 with 9 Axes>"
            ]
          },
          "metadata": {},
          "output_type": "display_data"
        }
      ],
      "source": [
        "# Ваш код здесь\n",
        "\n",
        "\n",
        "\n",
        "\n",
        "print('размеры датасета = ',data.shape)\n",
        "\n",
        "print(data.info())\n",
        "print(data.describe())\n",
        "#мы имеем 6 признаков и 200 наблюдений\n",
        "#данные не имеют хапредельных выбросов\n",
        "# распределение не идельная гауссиана\n",
        "# \n",
        "plt.subplot(3, 3, 1)\n",
        "sns.boxplot(data=data,x = 'Por', orient='h')\n",
        "plt.subplot(3, 3, 2)\n",
        "sns.boxplot(data=data,x = 'Perm', orient='h')\n",
        "plt.subplot(3, 3, 3)\n",
        "sns.boxplot(data=data,x = 'AI', orient='h')\n",
        "plt.subplot(3, 3, 4)\n",
        "sns.boxplot(data=data,x = 'Brittle', orient='h')\n",
        "plt.subplot(3, 3, 5)\n",
        "sns.boxplot(data=data,x = 'TOC', orient='h')\n",
        "plt.subplot(3, 3, 6)\n",
        "sns.boxplot(data=data,x = 'VR', orient='h')\n",
        "plt.subplot(3, 3, 7)\n",
        "sns.boxplot(data=data, x = 'Prod',orient='h')\n",
        "plt.subplot(3, 3, 8)\n",
        "sns.histplot(data['Por'], bins= 12)\n",
        "plt.subplot(3, 3, 9)\n",
        "sns.histplot(data['Prod'], bins= 12)\n"
      ]
    },
    {
      "cell_type": "markdown",
      "id": "d11cb44f",
      "metadata": {
        "id": "d11cb44f"
      },
      "source": [
        "### Задание 5.1. (2 балла)\n",
        "\n",
        "Постройте корреляционную матрицу факторов, включив в неё целевой признак. \n",
        "\n",
        "Для наглядности визуализируйте полученную матрицу с помощью тепловой карты. \n",
        "\n",
        "**Примечание.** *Для визуализации вы можете использовать любую из знакомых вам библиотек.*\n",
        "\n",
        "На основе построенной корреляционной матрицы ответьте на следующий вопрос:\n",
        "\n",
        "* Какие факторы сильнее всего коррелируют с целевой переменной?\n",
        "\n",
        "Вычислите ранг и определитель полученной матрицы корреляций и приведите развёрнутые ответы на следующие вопросы:\n",
        "* Является ли корреляционная матрица плохо обусловенной (близок ли её опредитель к нулю)?\n",
        "* Что вы можете сказать о наличии коллинераности/мультиколлинеарности в данных? \n",
        "* Применима ли в данном случае модель классической линейной регрессии по методу наименьших квадратов и почему? "
      ]
    },
    {
      "cell_type": "markdown",
      "id": "57OjUl5e2oiL",
      "metadata": {
        "id": "57OjUl5e2oiL"
      },
      "source": [
        "**Критерии оценивания:**\n",
        "- Задание выполнено верно, учтены все условия (**2 балла**): \n",
        "    * приведён код для расчёта корреляционной матрицы;\n",
        "    * приведён код для визуализации корреляционной матрицы в виде тепловой карты;\n",
        "    * рассчитаны ранг и определитель корреляционной матрицы;\n",
        "    * предоставлены обоснованные ответы на все поставленные вопросы. \n",
        "\n",
        "- Задание выполнено верно, но не учтено одно условие (**1 балл**).\n",
        "- Задание выполнено неверно, не учтено несколько условий (**0 баллов**)."
      ]
    },
    {
      "cell_type": "code",
      "execution_count": 4,
      "id": "af00a5a0",
      "metadata": {
        "id": "af00a5a0"
      },
      "outputs": [
        {
          "name": "stdout",
          "output_type": "stream",
          "text": [
            "              Por      Perm        AI   Brittle       TOC        VR      Prod\n",
            "Por      1.000000  0.760546 -0.461549 -0.218570  0.711831  0.111860  0.861910\n",
            "Perm     0.760546  1.000000 -0.239636 -0.124017  0.471746  0.051023  0.727426\n",
            "AI      -0.461549 -0.239636  1.000000  0.127599 -0.531864  0.499143 -0.390835\n",
            "Brittle -0.218570 -0.124017  0.127599  1.000000 -0.214282  0.317929  0.237155\n",
            "TOC      0.711831  0.471746 -0.531864 -0.214282  1.000000  0.299483  0.654445\n",
            "VR       0.111860  0.051023  0.499143  0.317929  0.299483  1.000000  0.323182\n",
            "Prod     0.861910  0.727426 -0.390835  0.237155  0.654445  0.323182  1.000000\n",
            "Ранг матрицы =  7\n",
            "Определитель матрицы =  0.0007477684988022486\n"
          ]
        },
        {
          "data": {
            "image/png": "[encoded data removed]",
            "text/plain": [
              "<Figure size 640x480 with 2 Axes>"
            ]
          },
          "metadata": {},
          "output_type": "display_data"
        }
      ],
      "source": [
        "# Ваш код здесь\n",
        "\n",
        "# посчитаем матрицу корреляции\n",
        "# стандартизируем векторы в столбцах матрицы \n",
        "data_wo_id = data.drop(['Well'],axis= 1)\n",
        "data_wo_id_cent = data_wo_id - data_wo_id.mean()\n",
        "data_wo_id_st = data_wo_id_cent/np.linalg.norm(data_wo_id_cent, axis=0)\n",
        "# матрица Грама стандартизированных признаков  является матрицей корреляции Пирсона\n",
        "corr_matr = data_wo_id_st.T @ data_wo_id_st\n",
        "print(corr_matr)\n",
        "# построим тепловую карту\n",
        "sns.heatmap(corr_matr,annot= True )\n",
        "# вычислим ранг матрицы \n",
        "print(\"Ранг матрицы = \",np.linalg.matrix_rank(corr_matr))\n",
        "# вычислим опредедитель матрицы \n",
        "print(\"Определитель матрицы = \",np.linalg.det(corr_matr))"
      ]
    },
    {
      "cell_type": "markdown",
      "id": "9a56013d",
      "metadata": {
        "id": "9a56013d"
      },
      "source": [
        "> *Ваши выводы здесь*\n",
        "сильнее всего коррелируют Por — пористость скважины (%) и Perm — проницаемость скважины;\n",
        "также эти 2 параметра сильно коррелируют между собой, что логично по физическому смыслу\n",
        "\n",
        "матрица корреляции в данном случае является плохо обусловленной определитель близок к 0. \n",
        "Имеется коллинеарность/сильная зависимость \n",
        "Por — пористость скважины (%) - сильно коррелирует с  Perm — проницаемость скважины и  TOC — общий органический углерод (%) \n",
        "\n",
        "Применима ли в данном случае модель классической линейной регрессии по методу наименьших квадратов и почему? \n",
        "Веса можно расчитать по МНК,не рекомендовано. \n",
        "т.к. модель будет неустойчивой и коэффициенты могут сильно отличаться в зависимоти от выборки из генеральной совокупности.\n",
        "\n"
      ]
    },
    {
      "cell_type": "markdown",
      "id": "43fd91c4",
      "metadata": {
        "id": "43fd91c4"
      },
      "source": [
        "### Задание 5.2. (2 балла)\n",
        "\n",
        "Создайте матрицу наблюдений `X` и вектор правильных ответов `y`. В качестве факторов для матрицы наблюдений возьмите все имеющиеся в данных признаки. \n",
        "\n",
        "Постройте модель линейной регрессии по методу наименьших квадратов. Для этого воспользуйтесь матричной формулой МНК и инструментарием библиотеки numpy. \n",
        "\n",
        "Выведите на экран полученные оценки коэффициентов модели, округлённые до целого.\n",
        "\n",
        "Приведите подробные выводы по полученным результатам, ответив на следующие вопросы:\n",
        "* Есть ли в ваших данных признаки, которые, согласно модели, можно назвать неинформативными, то есть они не оказывают влияния на целевую переменную или оказывают шумовое влияние?\n",
        "* Приведите интерпретацию нескольких (двух или трёх) коэффициентов полученной модели линейной регрессии.\n"
      ]
    },
    {
      "cell_type": "markdown",
      "id": "QtNtTUzI4Cpq",
      "metadata": {
        "id": "QtNtTUzI4Cpq"
      },
      "source": [
        "**Критерии оценивания:**\n",
        "- Задание выполнено верно, учтены все условия (**2 балла**): \n",
        "    * приведён код для нахождения параметров модели линейной регрессии с помощью матричной формулы МНК;\n",
        "    * на основе полученных параметров даны верные ответы на поставленные вопросы;\n",
        "    * приведена корректная интерпретация нескольких коэффициентов полученной модели линейной регрессии.\n",
        "\n",
        "- Задание выполнено верно, но не учтено одно из условий (**1 балл**).\n",
        "- Задание выполнено неверно, не учтено несколько условий (**0 баллов**)."
      ]
    },
    {
      "cell_type": "code",
      "execution_count": 5,
      "id": "5724288c",
      "metadata": {
        "id": "5724288c"
      },
      "outputs": [
        {
          "name": "stdout",
          "output_type": "stream",
          "text": [
            "w0 = -1230,  w1 = 230,  w2 = 116,  w3 = -364,  w4 = 25,  w5 = -77,  w6 = 783,  "
          ]
        }
      ],
      "source": [
        "# Ваш код здесь\n",
        "# создадим матрицу наблюдений и вектор правильных ответов\n",
        "X = data.drop(['Well','Prod'],axis= 1)\n",
        "y = data['Prod']\n",
        "#добавим смещение\n",
        "X = np.column_stack((np.ones(X.shape[0]), X))\n",
        "#нейдем коэффициенты\n",
        "w = np.linalg.inv(X.T@X)@X.T@y\n",
        "#выведем параметы с округлением\n",
        "for i in range(len(w)):\n",
        "    print('w'+str(i),'=',round(w[i]), end=',  ')\n",
        "\n",
        "\n",
        "\n"
      ]
    },
    {
      "cell_type": "markdown",
      "id": "bab9ee21",
      "metadata": {
        "id": "bab9ee21"
      },
      "source": [
        "> *Ваши выводы здесь*\n",
        "\n",
        "w4=25 и w5=-77  оказывают наименьшее воздействие на модель(т.к. минимум на порядок меньше остальных параметоров)\n",
        "\n",
        "параметр w0 - смещение модели, и играет важную роль если остальные переменные предикторы равны нулю, в нашем случае физически это мало вероятно. \n",
        "             в нашем случае он отрицательный потому смешает вниз(уменьшает) предсказание - т.е. мы получим отрицательную добычу если оствльные предикторы равны нулю\n",
        "Параметр w6 - вносит самый большой выклад к предлсказание, значение переменной предиктора VR — коэффициент отражения витринита (%) умножается на данный коэффициент, чем больше значение тем больще предсказание.\n",
        "Параметр w3 - вносит значительный  вклад в предсказание знечение, переменная предиктор AI (акустический импеданс. чем она больше тем меньще предлсказанное значение. т.к. параметр w3 отрицательный\n",
        "\n",
        "\n"
      ]
    },
    {
      "cell_type": "markdown",
      "id": "4a05a4ac",
      "metadata": {
        "id": "4a05a4ac"
      },
      "source": [
        "### Задание 5.3. (1 балл)\n",
        "\n",
        "Теперь потренируемся строить предсказание для наблюдений целевой переменной. \n",
        "\n",
        "**а)** Постройте прогноз выработки газа для скважины со следующими параметрами:\n",
        "\n",
        "```python\n",
        "{\n",
        "    'Well': 106.0,\n",
        "    'Por': 15.32,\n",
        "    'Perm': 3.71,\n",
        "    'AI': 3.29,\n",
        "    'Brittle': 55.99,\n",
        "    'TOC': 1.35,\n",
        "    'VR': 2.42\n",
        " }\n",
        "```\n",
        "\n",
        "Рассчитайте абсолютную ошибку построенного вами прогноза для предложенной скважины (в миллионах кубических футов в день), если известно, что на этой скважине производится `4748.315024` миллионов кубических футов газа в день. \n",
        "\n",
        "**б)** Постройте прогноз выработки газа для всех скважин из обучающего набора данных. Выберите метрику, по которой вы будете оценивать качество регрессионных моделей и сравнивать их между собой (можно использовать несколько метрик, но не более двух).\n",
        "\n",
        "Рассчитайте значение выбранной метрики для вашей модели. Приведите интерпретацию полученного результата. "
      ]
    },
    {
      "cell_type": "markdown",
      "id": "qUDcep5Q5GWU",
      "metadata": {
        "id": "qUDcep5Q5GWU"
      },
      "source": [
        "**Критерии оценивания:**\n",
        "- Задание выполнено верно, учтены все условия (**1 балл**): \n",
        "    * приведён код для построения прогноза выработки газа на указанной скважине и рассчитана абсолютная ошибка прогноза для этой скважины;\n",
        "    * выбрана корректная для поставленной задачи метрика (или метрики) оценки качества модели и приведён код для расчёта этой метрики на всём обучающем наборе данных;\n",
        "    * приведена корректная интерпретация полученного результата.\n",
        "\n",
        "- Задание выполнено верно, но не учтено одно из условий, или задание выполнено неверно (**0 баллов**)."
      ]
    },
    {
      "cell_type": "code",
      "execution_count": 6,
      "id": "e4291db0",
      "metadata": {
        "id": "e4291db0"
      },
      "outputs": [
        {
          "name": "stdout",
          "output_type": "stream",
          "text": [
            "предсказание модели для скважины 106 =  4722.721538\n",
            "абсолютная ошибка для 106 скважины = 25.593486\n",
            "MSE=  39323.40582929076\n",
            "MAE=  153.60366973558067\n"
          ]
        }
      ],
      "source": [
        "# Ваш код здесь\n",
        "# занесем предикторы для скважины 106\n",
        "Por106 =  15.32\n",
        "Perm106= 3.71\n",
        "AI106= 3.29\n",
        "Brittle106 = 55.99\n",
        "TOC106 = 1.35\n",
        "VR106 = 2.42\n",
        "# расчитаем предсазанное значение\n",
        "y106_pred = w[0] + w[1]*Por106 + w[2]*Perm106 + w[3]*AI106 + w[4]*Brittle106 + w[5]*TOC106 + w[6]*VR106\n",
        "y106 = 4748.315024\n",
        "print(\"предсказание модели для скважины 106 = \", round(y106_pred,6))\n",
        "mae106 = abs(y106_pred-y106)\n",
        "print(\"абсолютная ошибка для 106 скважины =\", round(mae106,6))\n",
        "\n",
        "# рассчитаем предсказания для известных скважин\n",
        "y_pred = X@w\n",
        "\n",
        "# найдем Среднеквадратическую ошибку (MSE)\n",
        "print(\"MSE= \",np.square(np.subtract(y,y_pred)).mean())\n",
        "# найдем среднюю абослютную  ошибку (MАE)\n",
        "print(\"MAE= \",np.absolute(y-y_pred).mean())\n",
        "\n"
      ]
    },
    {
      "cell_type": "markdown",
      "id": "c9bee4bc",
      "metadata": {
        "id": "c9bee4bc"
      },
      "source": [
        "> *Ваши выводы здесь*\n",
        "\n",
        "Быили расчитаны 2 метрики MAE и MSE, в нашем случае наиболее красивый результат поазывает средняя абсолютная ошибка MAE. \n",
        "но MSE, в следстии и RMSE показывает что модель всего не адекватна. слишком большие средние потери, и это логичнго при наличии коллинеарности признаков . "
      ]
    },
    {
      "cell_type": "markdown",
      "id": "0c25c3aa",
      "metadata": {
        "id": "0c25c3aa"
      },
      "source": [
        "### Задание 5.4. (1 балл)\n",
        "\n",
        "Настало время анализа построенной модели. Посмотрите на коэффициенты и сравните их знаки со значениями выборочных корреляций между целевым признаком и факторами, которые вы нашли ранее.\n",
        "\n",
        "Дайте развёрнутые ответы на следующие вопросы:\n",
        "\n",
        "* Есть ли в вашей модели фактор, при котором коэффициент в модели линейной регрессии противоречит соответствующему коэффициенту корреляции? Например, корреляция говорит, что зависимость между фактором и целевой переменной прямая, а модель говорит обратное. Если таких факторов несколько, укажите их все.\n",
        "* Как вы считаете, с чем связано полученное противоречие результатов?"
      ]
    },
    {
      "cell_type": "markdown",
      "id": "ngJ3UdYb6Ll6",
      "metadata": {
        "id": "ngJ3UdYb6Ll6"
      },
      "source": [
        "**Критерии оценивания:**\n",
        "\n",
        "- Задание выполнено верно, даны корректные развёрнутые ответы на все поставленные в задании вопросы (**1 балл**). \n",
        "\n",
        "- Задание выполнено неверно, даны некорректные ответы на один или несколько поставленных в задании вопросов (**0 баллов**)."
      ]
    },
    {
      "cell_type": "code",
      "execution_count": 7,
      "id": "v-zIxRPY9wK7",
      "metadata": {
        "id": "v-zIxRPY9wK7"
      },
      "outputs": [
        {
          "name": "stdout",
          "output_type": "stream",
          "text": [
            "w0 = -1230.26,  w1 = 230.3,  w2 = 116.23,  w3 = -363.74,  w4 = 25.0,  w5 = -77.44,  w6 = 783.19,  "
          ]
        },
        {
          "data": {
            "image/png": "[encoded data removed]",
            "text/plain": [
              "<Figure size 640x480 with 2 Axes>"
            ]
          },
          "metadata": {},
          "output_type": "display_data"
        }
      ],
      "source": [
        "# Ваш код здесь\n",
        "\n",
        "# построим тепловую карту\n",
        "sns.heatmap(corr_matr,annot= True )\n",
        "#выведем параметы с округлением\n",
        "for i in range(len(w)):\n",
        "    print('w'+str(i),'=',round(w[i],2), end=',  ')\n",
        "\n",
        "\n"
      ]
    },
    {
      "cell_type": "markdown",
      "id": "qeowwIp99yBf",
      "metadata": {
        "id": "qeowwIp99yBf"
      },
      "source": [
        "> *Ваши выводы здесь*\n",
        "\n",
        "Por — пористость скважины (%) - имеет самый высокий коэффициент корреляции - 0.86, но  параметр  w1- 230.3 не является достаточно высоким для отражения этой зависимости\n",
        "\n",
        "Perm — проницаемость скважины = 0.73, аналогично w2 = 116.23 тоже вносит малый вклад в модель\n",
        "\n",
        "TOC — общий органический углерод (%) - 0.65 положительный коэффициент корреляции, а модель имеет отрицательный  параметр w5 = - 77.44\n",
        "VR — коэффициент отражения витринита (%); - 0.32 имеет слабую корреляцию, а коэффициент w6 = 783.19 оказывает значительное влияние на модель\n",
        "\n",
        "На основании этих наблюдений можно говорить, что модель скорее всего дает не адекватные предстказания. которые сложно будет трактовать\n",
        "\n"
      ]
    },
    {
      "cell_type": "markdown",
      "id": "9cea9195",
      "metadata": {
        "id": "9cea9195"
      },
      "source": [
        "### Задание 5.5. (2 балла)\n",
        "\n",
        "* Исключите из данных сильно коррелированные между собой факторы. Под сильной корреляцией в данной задаче будем понимать значения выше `0.7`.\n",
        "\n",
        "Выбирая, какой из коррелированных факторов оставить, руководствуйтесь коэффициентом корреляции с целевой переменной: оставляйте тот фактор, который больше всего коррелирует с целевой переменной (объёмом добычи газа).\n",
        "\n",
        "* Также исключите из данных факторы, для которых корреляция с целевой переменной меньше `0.05`.\n",
        "\n",
        "Постройте модель линейной регрессии на обновлённых после удаления факторов данных по методу наименьших квадратов. Для этого используйте матричную формулу и библиотеку numpy. Выведите значение полученных коэффициентов, округлённых до целого.\n",
        "\n",
        "Сделайте прогноз для всего обучающего набора данных и рассчитайте выбранную вами ранее метрику (или метрики). \n",
        "\n",
        "Дайте подробные ответы на следующие вопросы:\n",
        "\n",
        "* Приведите интерпретацию нескольких полученных коэффициентов (двух или трёх). Сравните их значения с полученными ранее.\n",
        "* Приведите интерпретацию полученных значений метрик. Сравните их значения с полученными ранее. \n",
        "* Удалось ли вам побороть противоречие коэффициентов линейной регрессии и коэффициентов корреляции?"
      ]
    },
    {
      "cell_type": "markdown",
      "id": "vlUYVjJP6oXN",
      "metadata": {
        "id": "vlUYVjJP6oXN"
      },
      "source": [
        "**Критерии оценивания:**\n",
        "- Задание выполнено верно, учтены все условия (**2 балла**): \n",
        "    * отобраны верные факторы;\n",
        "    * на основе отобранных факторов построена модель линейной регрессии с помощью матричной формулы МНК и найдены параметры модели, соответствующие каждому из факторов;\n",
        "    * построен прогноз для всего обучающего набора данных и рассчитано значение метрики (метрика должна быть выбрана корректно);\n",
        "    * даны ответы на все поставленные в задании вопросы.\n",
        "\n",
        "- Задание выполнено верно, но не учтено одно из условий (**1 балл**).\n",
        "- Задание выполнено верно, не учтено несколько из условий (**0 баллов**)."
      ]
    },
    {
      "cell_type": "code",
      "execution_count": 8,
      "id": "5d5ZJ0lX_UHe",
      "metadata": {
        "id": "5d5ZJ0lX_UHe"
      },
      "outputs": [
        {
          "name": "stdout",
          "output_type": "stream",
          "text": [
            "Гипотеза 1\n",
            "             Perm        AI   Brittle        VR      Prod\n",
            "Perm     1.000000 -0.239636 -0.124017  0.051023  0.727426\n",
            "AI      -0.239636  1.000000  0.127599  0.499143 -0.390835\n",
            "Brittle -0.124017  0.127599  1.000000  0.317929  0.237155\n",
            "VR       0.051023  0.499143  0.317929  1.000000  0.323182\n",
            "Prod     0.727426 -0.390835  0.237155  0.323182  1.000000\n",
            "\n",
            "w0 = 1611,  w1 = 349,  w2 = -894,  w3 = 16,  w4 = 1567,  \n",
            "MSE=  146938.04659410322\n",
            "MAE=  300.99034918116934\n",
            "\n",
            "Гипотеза 2\n",
            "\n",
            "              Por        AI   Brittle       TOC        VR      Prod\n",
            "Por      1.000000 -0.461549 -0.218570  0.711831  0.111860  0.861910\n",
            "AI      -0.461549  1.000000  0.127599 -0.531864  0.499143 -0.390835\n",
            "Brittle -0.218570  0.127599  1.000000 -0.214282  0.317929  0.237155\n",
            "TOC      0.711831 -0.531864 -0.214282  1.000000  0.299483  0.654445\n",
            "VR       0.111860  0.499143  0.317929  0.299483  1.000000  0.323182\n",
            "Prod     0.861910 -0.390835  0.237155  0.654445  0.323182  1.000000\n",
            "\n",
            "w0 = -1889,  w1 = 290,  w2 = -140,  w3 = 29,  w4 = 89,  w5 = 407,  \n",
            "MSE=  53393.67973621556\n",
            "MAE=  170.3654169039255\n",
            "\n",
            "Исходнная модель\n",
            "MSE=  39323.40582929076\n",
            "MAE=  153.60366973558067\n"
          ]
        }
      ],
      "source": [
        "# Ваш код здесь\n",
        "#примем гипотезу, что Perm — проницаемость скважины  коррелирует с Por — пористость скважины (%) и c TOC — общий органический углерод (%)\n",
        "# потому попробуем убрать эти параметры\n",
        "print(\"Гипотеза 1\")\n",
        "#примем гипотезу, что Perm — проницаемость скважины  коррелирует с Por — пористость скважины (%) и TOC — общий органический углерод (%)\n",
        "X_new = data.drop(['Por','TOC','Prod','Well'],axis=1)\n",
        "\n",
        "#добавим смещение\n",
        "X_new = np.column_stack((np.ones(X_new.shape[0]), X_new))\n",
        "#найдем коэффициенты\n",
        "w_new = np.linalg.inv(X_new.T@X_new)@X_new.T@y\n",
        "\n",
        "print(data.drop(['Por','TOC','Well'],axis=1).corr())\n",
        "print()\n",
        "#выведем параметры с округлением\n",
        "for i in range(len(w_new)):\n",
        "    print('w'+str(i),'=',round(w_new[i]), end=',  ')\n",
        "    \n",
        "print()    \n",
        "# рассчитаем предсказания для известных скважин\n",
        "y_pred_new = X_new@w_new\n",
        "\n",
        "# найдем Среднеквадратическую ошибку (MSE)\n",
        "print(\"MSE= \",np.square(np.subtract(y,y_pred_new)).mean())\n",
        "# найдем среднюю абослютную  ошибку (MАE)\n",
        "print(\"MAE= \",np.absolute(y-y_pred_new).mean())\n",
        "\n",
        "print()\n",
        "print(\"Гипотеза 2\")\n",
        "#примем вторую гипотезу, если Perm — проницаемость скважины  коррелирует с Por — пористость скважины (%) и TOC — общий органический углерод (%)\n",
        "# то уберем это передиктор \n",
        "X_new1 = data.drop(['Perm','Prod','Well'],axis=1)\n",
        "\n",
        "#добавим смещение\n",
        "X_new1 = np.column_stack((np.ones(X_new1.shape[0]), X_new1))\n",
        "#найдем коэффициенты\n",
        "w_new1 = np.linalg.inv(X_new1.T@X_new1)@X_new1.T@y\n",
        "print()\n",
        "print(data.drop(['Perm','Well'],axis=1).corr())\n",
        "print()\n",
        "#выведем параметры с округлением\n",
        "for i in range(len(w_new1)):\n",
        "    print('w'+str(i),'=',round(w_new1[i]), end=',  ')\n",
        "print()\n",
        "# рассчитаем предсказания для известных скважин\n",
        "y_pred_new1 = X_new1@w_new1\n",
        "\n",
        "# найдем Среднеквадратическую ошибку (MSE)\n",
        "print(\"MSE= \",np.square(np.subtract(y,y_pred_new1)).mean())\n",
        "# найдем среднюю абослютную  ошибку (MАE)\n",
        "print(\"MAE= \",np.absolute(y-y_pred_new1).mean())\n",
        "print()\n",
        "print(\"Исходнная модель\")\n",
        "# найдем Среднеквадратическую ошибку (MSE)\n",
        "print(\"MSE= \",np.square(np.subtract(y,y_pred)).mean())\n",
        "# найдем среднюю абослютную  ошибку (MАE)\n",
        "print(\"MAE= \",np.absolute(y-y_pred).mean())\n"
      ]
    },
    {
      "cell_type": "markdown",
      "id": "KxbYvMDo_WLe",
      "metadata": {
        "id": "KxbYvMDo_WLe"
      },
      "source": [
        "> *Ваши выводы здесь*\n",
        "\n",
        "Обе гипотезы жизнеспособны и повысили объяснимость модели.\n",
        "Плюс первой гипотезы более компактная модель, но метрики значительно хуже чем у второй гипотезы  \n",
        "потому логичнее применить вторую гипотезу и удалить Perm — проницаемость скважины\n",
        "\n",
        "* Приведите интерпретацию нескольких полученных коэффициентов (двух или трёх). Сравните их значения с полученными ранее.\n",
        "\n",
        "w1 - имеет положительный знак и  чем больше значение Por — пористость скважины, тем выше вклад в предсказание и тем вышне предсказанный уровень добычи  \n",
        "w2 - имеет отрицательный знак и чем больше значения призанка AI — акустический импеданс тем меньше предсказанный уровень добычи\n",
        "* Приведите интерпретацию полученных значений метрик. Сравните их значения с полученными ранее. \n",
        "\n",
        "значения метрик стало хуже, выросли и MAE и MSE. но так как повысилась трактуемость модели. сожно говорить о том что они стали больше отражать реальность.  \n",
        "требуется проводить нормарование признаков и регуляризацию для  снижения ошибки\n",
        "\n",
        "* Удалось ли вам побороть противоречие коэффициентов линейной регрессии и коэффициентов корреляции?\n",
        "\n",
        "противоречие знаков удалось победить. соотношение параметров w1 и w5, не соответствует соотношению коэффициентов корреляции. что устраняется номированием признаков."
      ]
    },
    {
      "cell_type": "markdown",
      "id": "7d50db12",
      "metadata": {
        "id": "7d50db12"
      },
      "source": [
        "### Задание 5.6. (1 балл)\n",
        "\n",
        "Наконец, давайте построим модель линейной регрессии из библиотеки `scikit-learn (sklearn)` и сравним результаты её работы с теми, что нам удалось получить вручную. \n",
        "\n",
        "Постройте модель линейной регрессии на обновлённых после удаления факторов данных по методу наименьших квадратов. Для этого воспользуйтесь классом `LinearRegression` из библиотеки `sklearn`. Выведите значения полученных коэффициентов, округлённые до целого.\n",
        "\n",
        "Сделайте прогноз для всего обучающего набора данных и рассчитайте значение выбранной вами метрики (или метрик).\n",
        "\n",
        "Сравните результаты библиотечной реализации с тем, что вы получили ранее. "
      ]
    },
    {
      "cell_type": "markdown",
      "id": "emu5D3w278JP",
      "metadata": {
        "id": "emu5D3w278JP"
      },
      "source": [
        "**Критерии оценивания:**\n",
        "\n",
        "- Задание выполнено верно, учтены все условия (**1 балл**): \n",
        "    * на основе отобранных факторов построена модель линейной регрессии из библиотеки sklearn и найдены параметры модели, соответствующие каждому из факторов;\n",
        "    * построен прогноз для всего обучающего набора данных и рассчитано значение метрики (метрика должна быть выбрана корректно);\n",
        "    * приведён вывод о соответствии результатов, полученных вручную и с помощью библиотеки.\n",
        "- Задание выполнено неверно, не учтено одно или несколько условий (**0 баллов**)."
      ]
    },
    {
      "cell_type": "code",
      "execution_count": 9,
      "id": "Gpdpfq59AKGu",
      "metadata": {
        "id": "Gpdpfq59AKGu"
      },
      "outputs": [
        {
          "name": "stdout",
          "output_type": "stream",
          "text": [
            "w1 = 290,  w2 = -140,  w3 = 29,  w4 = 89,  w5 = 407,  w0= -1889\n",
            "MАE= 170.36541690392477\n",
            "MSE= 53393.67973621555\n"
          ]
        }
      ],
      "source": [
        "# Ваш код здесь\n",
        "from sklearn.linear_model import LinearRegression\n",
        "from sklearn.metrics import mean_absolute_error\n",
        "from sklearn.metrics import mean_squared_error\n",
        "\n",
        "X = data.drop(['Perm','Prod','Well'],axis=1)\n",
        "lin_reg = LinearRegression().fit(X, y)\n",
        "for i in range(len(lin_reg.coef_)):\n",
        "    print('w'+str(i+1),'=',round(lin_reg.coef_[i]), end=',  ')\n",
        "\n",
        "print('w0=',round(lin_reg.intercept_))\n",
        "y_pred = lin_reg.predict(X)\n",
        "\n",
        "print(\"MАE=\",mean_absolute_error(y, y_pred))\n",
        "print(\"MSE=\",mean_squared_error(y, y_pred))"
      ]
    },
    {
      "cell_type": "markdown",
      "id": "WT9cdHAbAMG7",
      "metadata": {
        "id": "WT9cdHAbAMG7"
      },
      "source": [
        "> *Ваши выводы здесь*\n",
        "\n",
        "Результаты работы библиотеки  и результаты полученные вручную полностью совпадают. следовательно возможно использование обоих вариантов.\n",
        "но библиотечные менее трудозатратны\n"
      ]
    },
    {
      "cell_type": "markdown",
      "id": "5346338e",
      "metadata": {
        "id": "5346338e"
      },
      "source": [
        "## Практика: полиномиальная регрессия и регуляризация"
      ]
    },
    {
      "cell_type": "markdown",
      "id": "aad9e3a6",
      "metadata": {
        "id": "aad9e3a6"
      },
      "source": [
        "Мы продолжаем работать над задачей от владельца компании «Газ-Таз-Ваз-Нефть» Василия.\n",
        "\n",
        "Ранее мы построили модель линейной регрессии, которая прогнозирует выработку газа на скважине. Для этого мы с помощью матрицы корреляций и рассуждений отобрали некоррелированные, значимые для предсказания признаки. **Далее мы будем использовать именно их (см. задание 5.5).**\n",
        "\n",
        "Мы хотим улучшить результат — уменьшить ошибку прогноза. Для этого мы воспользуемся моделью полиномиальной регрессии третьей степени. Однако теперь мы знаем, что полиномиальным моделям очень легко переобучиться под исходную выборку. Так как данных у нас не так много (всего 200 скважин), то для контроля качества модели мы будем использовать кросс-валидацию. \n",
        "\n",
        "Приступим! Выполните задания 8.1–8.5:\n"
      ]
    },
    {
      "cell_type": "code",
      "execution_count": 10,
      "id": "18506d1b",
      "metadata": {
        "id": "18506d1b"
      },
      "outputs": [],
      "source": [
        "from sklearn.preprocessing import PolynomialFeatures, StandardScaler\n",
        "from sklearn.linear_model import LinearRegression, Lasso, Ridge, ElasticNet\n",
        "from sklearn.model_selection import GridSearchCV\n",
        "from sklearn.model_selection import cross_validate"
      ]
    },
    {
      "cell_type": "markdown",
      "id": "bfbfea8d",
      "metadata": {
        "id": "bfbfea8d"
      },
      "source": [
        "### Задание 8.1. (1 балл)\n",
        "\n",
        "Стандаризируйте признаки с помощью `StandartScaler` из библиотеки `sklearn`. \n",
        "\n",
        "Затем сгенерируйте полиномиальные признаки третьего порядка на факторах, которые вы выбрали для обучения моделей. Для этого воспользуйтесь генератором полиномов `PolynomialFeatures` из библиотеки `sklearn`. Параметр `include_bias` установите в значение `False`.\n",
        "\n",
        "Выведите на экран, сколько факторов у вас получилось после генерации полиномиальных признаков.\n",
        "\n",
        "**Важно:** стандартизацию необходимо произвести до генерации полиномиальных факторов!\n",
        "\n",
        "Обучите модель линейной регрессии из библиотеки `sklearn` (`LinearRegression`) на полученных полиномиальных факторах.\n",
        "\n",
        "Используя кросс-валидацию оцените среднее значение выбранной вами метрики (или метрик) на тренировочных и валидационных фолдах.\n",
        "\n",
        "Проинтерпретируйте полученные результаты."
      ]
    },
    {
      "cell_type": "markdown",
      "id": "Y8oAhQkr8gV-",
      "metadata": {
        "id": "Y8oAhQkr8gV-"
      },
      "source": [
        "**Критерии оценивания:**\n",
        "\n",
        "- Задание выполнено верно, учтены все условия (**1 балл**): \n",
        "    * на основе отобранных факторов сгенерированы полиномиальные признаки третьего порядка;\n",
        "    * построена модель полиномиальной регрессии (линейной регрессии на полиномиальных признаках);\n",
        "    * с помощью кросс-валидации оценено среднее значение выбранной студентом метрики (или метрик) на тренировочных и валидационных фолдах (метрика должна быть выбрана корректно).\n",
        "- Задание выполнено неверно, не учтено одно или несколько из условий (**0 баллов**)."
      ]
    },
    {
      "cell_type": "code",
      "execution_count": 11,
      "id": "-ln3bx8NFNRw",
      "metadata": {
        "id": "-ln3bx8NFNRw"
      },
      "outputs": [
        {
          "data": {
            "text/html": [
              "<div>\n",
              "<style scoped>\n",
              "    .dataframe tbody tr th:only-of-type {\n",
              "        vertical-align: middle;\n",
              "    }\n",
              "\n",
              "    .dataframe tbody tr th {\n",
              "        vertical-align: top;\n",
              "    }\n",
              "\n",
              "    .dataframe thead th {\n",
              "        text-align: right;\n",
              "    }\n",
              "</style>\n",
              "<table border=\"1\" class=\"dataframe\">\n",
              "  <thead>\n",
              "    <tr style=\"text-align: right;\">\n",
              "      <th></th>\n",
              "      <th>0</th>\n",
              "      <th>1</th>\n",
              "      <th>2</th>\n",
              "      <th>3</th>\n",
              "      <th>4</th>\n",
              "      <th>5</th>\n",
              "      <th>6</th>\n",
              "      <th>7</th>\n",
              "      <th>8</th>\n",
              "      <th>9</th>\n",
              "      <th>...</th>\n",
              "      <th>45</th>\n",
              "      <th>46</th>\n",
              "      <th>47</th>\n",
              "      <th>48</th>\n",
              "      <th>49</th>\n",
              "      <th>50</th>\n",
              "      <th>51</th>\n",
              "      <th>52</th>\n",
              "      <th>53</th>\n",
              "      <th>54</th>\n",
              "    </tr>\n",
              "  </thead>\n",
              "  <tbody>\n",
              "    <tr>\n",
              "      <th>0</th>\n",
              "      <td>-0.982256</td>\n",
              "      <td>-0.298603</td>\n",
              "      <td>2.358297</td>\n",
              "      <td>0.352948</td>\n",
              "      <td>1.152048</td>\n",
              "      <td>0.964826</td>\n",
              "      <td>0.293305</td>\n",
              "      <td>-2.316451</td>\n",
              "      <td>-0.346685</td>\n",
              "      <td>-1.131606</td>\n",
              "      <td>...</td>\n",
              "      <td>13.115830</td>\n",
              "      <td>1.962944</td>\n",
              "      <td>6.407195</td>\n",
              "      <td>0.293778</td>\n",
              "      <td>0.958915</td>\n",
              "      <td>3.129970</td>\n",
              "      <td>0.043968</td>\n",
              "      <td>0.143513</td>\n",
              "      <td>0.468438</td>\n",
              "      <td>1.529017</td>\n",
              "    </tr>\n",
              "    <tr>\n",
              "      <th>1</th>\n",
              "      <td>-0.881032</td>\n",
              "      <td>0.444147</td>\n",
              "      <td>-0.141332</td>\n",
              "      <td>-0.209104</td>\n",
              "      <td>-0.280931</td>\n",
              "      <td>0.776218</td>\n",
              "      <td>-0.391308</td>\n",
              "      <td>0.124518</td>\n",
              "      <td>0.184228</td>\n",
              "      <td>0.247509</td>\n",
              "      <td>...</td>\n",
              "      <td>-0.002823</td>\n",
              "      <td>-0.004177</td>\n",
              "      <td>-0.005612</td>\n",
              "      <td>-0.006180</td>\n",
              "      <td>-0.008302</td>\n",
              "      <td>-0.011154</td>\n",
              "      <td>-0.009143</td>\n",
              "      <td>-0.012284</td>\n",
              "      <td>-0.016503</td>\n",
              "      <td>-0.022172</td>\n",
              "    </tr>\n",
              "    <tr>\n",
              "      <th>2</th>\n",
              "      <td>-0.327677</td>\n",
              "      <td>1.841224</td>\n",
              "      <td>1.748113</td>\n",
              "      <td>-0.209104</td>\n",
              "      <td>2.518377</td>\n",
              "      <td>0.107372</td>\n",
              "      <td>-0.603327</td>\n",
              "      <td>-0.572817</td>\n",
              "      <td>0.068519</td>\n",
              "      <td>-0.825215</td>\n",
              "      <td>...</td>\n",
              "      <td>5.342052</td>\n",
              "      <td>-0.639001</td>\n",
              "      <td>7.695903</td>\n",
              "      <td>0.076435</td>\n",
              "      <td>-0.920562</td>\n",
              "      <td>11.086922</td>\n",
              "      <td>-0.009143</td>\n",
              "      <td>0.110115</td>\n",
              "      <td>-1.326186</td>\n",
              "      <td>15.972114</td>\n",
              "    </tr>\n",
              "    <tr>\n",
              "      <th>3</th>\n",
              "      <td>0.903875</td>\n",
              "      <td>-0.599240</td>\n",
              "      <td>-0.592585</td>\n",
              "      <td>0.186414</td>\n",
              "      <td>-0.280931</td>\n",
              "      <td>0.816990</td>\n",
              "      <td>-0.541638</td>\n",
              "      <td>-0.535623</td>\n",
              "      <td>0.168495</td>\n",
              "      <td>-0.253926</td>\n",
              "      <td>...</td>\n",
              "      <td>-0.208091</td>\n",
              "      <td>0.065461</td>\n",
              "      <td>-0.098651</td>\n",
              "      <td>-0.020592</td>\n",
              "      <td>0.031033</td>\n",
              "      <td>-0.046768</td>\n",
              "      <td>0.006478</td>\n",
              "      <td>-0.009762</td>\n",
              "      <td>0.014712</td>\n",
              "      <td>-0.022172</td>\n",
              "    </tr>\n",
              "    <tr>\n",
              "      <th>4</th>\n",
              "      <td>0.853263</td>\n",
              "      <td>0.373409</td>\n",
              "      <td>-2.640962</td>\n",
              "      <td>1.081534</td>\n",
              "      <td>-0.214280</td>\n",
              "      <td>0.728058</td>\n",
              "      <td>0.318616</td>\n",
              "      <td>-2.253436</td>\n",
              "      <td>0.922833</td>\n",
              "      <td>-0.182838</td>\n",
              "      <td>...</td>\n",
              "      <td>-18.419868</td>\n",
              "      <td>7.543355</td>\n",
              "      <td>-1.494537</td>\n",
              "      <td>-3.089176</td>\n",
              "      <td>0.612047</td>\n",
              "      <td>-0.121263</td>\n",
              "      <td>1.265088</td>\n",
              "      <td>-0.250647</td>\n",
              "      <td>0.049660</td>\n",
              "      <td>-0.009839</td>\n",
              "    </tr>\n",
              "    <tr>\n",
              "      <th>...</th>\n",
              "      <td>...</td>\n",
              "      <td>...</td>\n",
              "      <td>...</td>\n",
              "      <td>...</td>\n",
              "      <td>...</td>\n",
              "      <td>...</td>\n",
              "      <td>...</td>\n",
              "      <td>...</td>\n",
              "      <td>...</td>\n",
              "      <td>...</td>\n",
              "      <td>...</td>\n",
              "      <td>...</td>\n",
              "      <td>...</td>\n",
              "      <td>...</td>\n",
              "      <td>...</td>\n",
              "      <td>...</td>\n",
              "      <td>...</td>\n",
              "      <td>...</td>\n",
              "      <td>...</td>\n",
              "      <td>...</td>\n",
              "      <td>...</td>\n",
              "    </tr>\n",
              "    <tr>\n",
              "      <th>195</th>\n",
              "      <td>-1.026119</td>\n",
              "      <td>0.002034</td>\n",
              "      <td>1.349364</td>\n",
              "      <td>-0.396455</td>\n",
              "      <td>0.318921</td>\n",
              "      <td>1.052921</td>\n",
              "      <td>-0.002087</td>\n",
              "      <td>-1.384608</td>\n",
              "      <td>0.406810</td>\n",
              "      <td>-0.327251</td>\n",
              "      <td>...</td>\n",
              "      <td>2.456898</td>\n",
              "      <td>-0.721858</td>\n",
              "      <td>0.580686</td>\n",
              "      <td>0.212088</td>\n",
              "      <td>-0.170611</td>\n",
              "      <td>0.137245</td>\n",
              "      <td>-0.062313</td>\n",
              "      <td>0.050127</td>\n",
              "      <td>-0.040324</td>\n",
              "      <td>0.032438</td>\n",
              "    </tr>\n",
              "    <tr>\n",
              "      <th>196</th>\n",
              "      <td>1.011847</td>\n",
              "      <td>0.727099</td>\n",
              "      <td>-0.272593</td>\n",
              "      <td>-0.021754</td>\n",
              "      <td>0.385571</td>\n",
              "      <td>1.023834</td>\n",
              "      <td>0.735713</td>\n",
              "      <td>-0.275822</td>\n",
              "      <td>-0.022011</td>\n",
              "      <td>0.390139</td>\n",
              "      <td>...</td>\n",
              "      <td>-0.020256</td>\n",
              "      <td>-0.001616</td>\n",
              "      <td>0.028651</td>\n",
              "      <td>-0.000129</td>\n",
              "      <td>0.002286</td>\n",
              "      <td>-0.040525</td>\n",
              "      <td>-0.000010</td>\n",
              "      <td>0.000182</td>\n",
              "      <td>-0.003234</td>\n",
              "      <td>0.057321</td>\n",
              "    </tr>\n",
              "    <tr>\n",
              "      <th>197</th>\n",
              "      <td>-0.968759</td>\n",
              "      <td>0.974682</td>\n",
              "      <td>0.632042</td>\n",
              "      <td>-2.145062</td>\n",
              "      <td>-0.780807</td>\n",
              "      <td>0.938495</td>\n",
              "      <td>-0.944233</td>\n",
              "      <td>-0.612296</td>\n",
              "      <td>2.078049</td>\n",
              "      <td>0.756414</td>\n",
              "      <td>...</td>\n",
              "      <td>0.252486</td>\n",
              "      <td>-0.856902</td>\n",
              "      <td>-0.311914</td>\n",
              "      <td>2.908207</td>\n",
              "      <td>1.058593</td>\n",
              "      <td>0.385330</td>\n",
              "      <td>-9.870050</td>\n",
              "      <td>-3.592719</td>\n",
              "      <td>-1.307757</td>\n",
              "      <td>-0.476026</td>\n",
              "    </tr>\n",
              "    <tr>\n",
              "      <th>198</th>\n",
              "      <td>0.188562</td>\n",
              "      <td>-0.864508</td>\n",
              "      <td>0.715765</td>\n",
              "      <td>1.872570</td>\n",
              "      <td>1.285349</td>\n",
              "      <td>0.035556</td>\n",
              "      <td>-0.163014</td>\n",
              "      <td>0.134966</td>\n",
              "      <td>0.353097</td>\n",
              "      <td>0.242369</td>\n",
              "      <td>...</td>\n",
              "      <td>0.366700</td>\n",
              "      <td>0.959354</td>\n",
              "      <td>0.658509</td>\n",
              "      <td>2.509843</td>\n",
              "      <td>1.722779</td>\n",
              "      <td>1.182530</td>\n",
              "      <td>6.566206</td>\n",
              "      <td>4.507102</td>\n",
              "      <td>3.093714</td>\n",
              "      <td>2.123553</td>\n",
              "    </tr>\n",
              "    <tr>\n",
              "      <th>199</th>\n",
              "      <td>1.990340</td>\n",
              "      <td>0.461831</td>\n",
              "      <td>-0.141332</td>\n",
              "      <td>1.497869</td>\n",
              "      <td>1.018748</td>\n",
              "      <td>3.961455</td>\n",
              "      <td>0.919201</td>\n",
              "      <td>-0.281299</td>\n",
              "      <td>2.981269</td>\n",
              "      <td>2.027656</td>\n",
              "      <td>...</td>\n",
              "      <td>-0.002823</td>\n",
              "      <td>0.029920</td>\n",
              "      <td>0.020349</td>\n",
              "      <td>-0.317095</td>\n",
              "      <td>-0.215666</td>\n",
              "      <td>-0.146681</td>\n",
              "      <td>3.360636</td>\n",
              "      <td>2.285675</td>\n",
              "      <td>1.554560</td>\n",
              "      <td>1.057305</td>\n",
              "    </tr>\n",
              "  </tbody>\n",
              "</table>\n",
              "<p>200 rows × 55 columns</p>\n",
              "</div>"
            ],
            "text/plain": [
              "           0         1         2         3         4         5         6    \n",
              "0   -0.982256 -0.298603  2.358297  0.352948  1.152048  0.964826  0.293305  \\\n",
              "1   -0.881032  0.444147 -0.141332 -0.209104 -0.280931  0.776218 -0.391308   \n",
              "2   -0.327677  1.841224  1.748113 -0.209104  2.518377  0.107372 -0.603327   \n",
              "3    0.903875 -0.599240 -0.592585  0.186414 -0.280931  0.816990 -0.541638   \n",
              "4    0.853263  0.373409 -2.640962  1.081534 -0.214280  0.728058  0.318616   \n",
              "..        ...       ...       ...       ...       ...       ...       ...   \n",
              "195 -1.026119  0.002034  1.349364 -0.396455  0.318921  1.052921 -0.002087   \n",
              "196  1.011847  0.727099 -0.272593 -0.021754  0.385571  1.023834  0.735713   \n",
              "197 -0.968759  0.974682  0.632042 -2.145062 -0.780807  0.938495 -0.944233   \n",
              "198  0.188562 -0.864508  0.715765  1.872570  1.285349  0.035556 -0.163014   \n",
              "199  1.990340  0.461831 -0.141332  1.497869  1.018748  3.961455  0.919201   \n",
              "\n",
              "           7         8         9   ...         45        46        47   \n",
              "0   -2.316451 -0.346685 -1.131606  ...  13.115830  1.962944  6.407195  \\\n",
              "1    0.124518  0.184228  0.247509  ...  -0.002823 -0.004177 -0.005612   \n",
              "2   -0.572817  0.068519 -0.825215  ...   5.342052 -0.639001  7.695903   \n",
              "3   -0.535623  0.168495 -0.253926  ...  -0.208091  0.065461 -0.098651   \n",
              "4   -2.253436  0.922833 -0.182838  ... -18.419868  7.543355 -1.494537   \n",
              "..        ...       ...       ...  ...        ...       ...       ...   \n",
              "195 -1.384608  0.406810 -0.327251  ...   2.456898 -0.721858  0.580686   \n",
              "196 -0.275822 -0.022011  0.390139  ...  -0.020256 -0.001616  0.028651   \n",
              "197 -0.612296  2.078049  0.756414  ...   0.252486 -0.856902 -0.311914   \n",
              "198  0.134966  0.353097  0.242369  ...   0.366700  0.959354  0.658509   \n",
              "199 -0.281299  2.981269  2.027656  ...  -0.002823  0.029920  0.020349   \n",
              "\n",
              "           48        49         50        51        52        53         54  \n",
              "0    0.293778  0.958915   3.129970  0.043968  0.143513  0.468438   1.529017  \n",
              "1   -0.006180 -0.008302  -0.011154 -0.009143 -0.012284 -0.016503  -0.022172  \n",
              "2    0.076435 -0.920562  11.086922 -0.009143  0.110115 -1.326186  15.972114  \n",
              "3   -0.020592  0.031033  -0.046768  0.006478 -0.009762  0.014712  -0.022172  \n",
              "4   -3.089176  0.612047  -0.121263  1.265088 -0.250647  0.049660  -0.009839  \n",
              "..        ...       ...        ...       ...       ...       ...        ...  \n",
              "195  0.212088 -0.170611   0.137245 -0.062313  0.050127 -0.040324   0.032438  \n",
              "196 -0.000129  0.002286  -0.040525 -0.000010  0.000182 -0.003234   0.057321  \n",
              "197  2.908207  1.058593   0.385330 -9.870050 -3.592719 -1.307757  -0.476026  \n",
              "198  2.509843  1.722779   1.182530  6.566206  4.507102  3.093714   2.123553  \n",
              "199 -0.317095 -0.215666  -0.146681  3.360636  2.285675  1.554560   1.057305  \n",
              "\n",
              "[200 rows x 55 columns]"
            ]
          },
          "metadata": {},
          "output_type": "display_data"
        },
        {
          "name": "stdout",
          "output_type": "stream",
          "text": [
            "MAE  на тренировочных фолдах:= -60.574617319398\n",
            "MAE на валидационных фолдах= -122.13011293117015\n",
            "MSE  на тренировочных фолдах:= -6548.667272533308\n",
            "MSE на валидационных фолдах= -28496.418570182985\n",
            "MAPE  на тренировочных фолдах:= -1.4147159998484118\n",
            "MAPE на валидационных фолдах= -2.965258385326651\n"
          ]
        }
      ],
      "source": [
        "# Ваш код здесь\n",
        "\n",
        "#удалим выбранные признаки\n",
        "X = data.drop(['Perm','Prod','Well'],axis=1)\n",
        "# стандаризуем признаки\n",
        "scaler = StandardScaler()\n",
        "scaled_X = scaler.fit_transform(X) \n",
        "#сгенерируем полиномиальные признаки\n",
        "poly = PolynomialFeatures(degree=3, include_bias=False)\n",
        "X_poly = poly.fit_transform(scaled_X)\n",
        "display(pd.DataFrame(X_poly))\n",
        "\n",
        "\n",
        "# сделаем линейную регресссию\n",
        "poly_lin_reg = LinearRegression().fit(X_poly, y)\n",
        "\n",
        "cv_results = cross_validate(poly_lin_reg, X_poly, y, cv=4,  scoring=('neg_mean_absolute_error', 'neg_mean_squared_error','neg_mean_absolute_percentage_error'),\n",
        "                            return_train_score=True)\n",
        "print('MAE  на тренировочных фолдах:=',cv_results['train_neg_mean_absolute_error'].mean())\n",
        "print('MAE на валидационных фолдах=',cv_results['test_neg_mean_absolute_error'].mean())\n",
        "print('MSE  на тренировочных фолдах:=',cv_results['train_neg_mean_squared_error'].mean())\n",
        "print('MSE на валидационных фолдах=',cv_results['test_neg_mean_squared_error'].mean())\n",
        "print('MAPE  на тренировочных фолдах:=',cv_results['train_neg_mean_absolute_percentage_error'].mean()*100)\n",
        "print('MAPE на валидационных фолдах=',cv_results['test_neg_mean_absolute_percentage_error'].mean()*100)"
      ]
    },
    {
      "cell_type": "markdown",
      "id": "9DkuuLLtFPPy",
      "metadata": {
        "id": "9DkuuLLtFPPy"
      },
      "source": [
        "> *Ваши выводы здесь*\n",
        "\n",
        "\n",
        "Полиномиальная линейная регрессия со стандартизацией показывает меньшую величину ошибок, чем простая линейная регрессия .  \n",
        "величина MAE на тренировочных данных почти в 3 раза меньше и в полтора на тестовых  \n",
        "так же заметно снижение MSE, исходя из этого можно сделатьт выводы:  \n",
        "Полиномиальные признаки работают лучше для данной модели  \n",
        "\n",
        "но показатели качества тестовые и тренировочные отличаются практически в два раза, что говорит о высоком разбросе модели.\n",
        "\n"
      ]
    },
    {
      "cell_type": "markdown",
      "id": "63d06013",
      "metadata": {
        "id": "63d06013"
      },
      "source": [
        "### Задание 8.2. (2 балла)\n",
        "\n",
        "Теперь попробуем воспользоваться линейной регрессией с регуляризацией. Для начала возьмём $L_1$-регуляризацию.\n",
        "\n",
        "Обучите модель `Lasso` из библиотеки `sklearn` на полученных полиномиальных факторах, предварительно стандартизировав факторы. \n",
        "\n",
        "Коэффициент регуляризации (`alpha`) подберите самостоятельно с помощью любого известного вам метода подбора гиперпаметров.\n",
        "\n",
        "Используя кросс-валидацию, оцените среднее значение выбранной вами метрики (или метрик) на тренировочных и валидационных фолдах.\n",
        "\n",
        "Проинтерпретируйте полученные результаты."
      ]
    },
    {
      "cell_type": "markdown",
      "id": "z24YUfuA9rUq",
      "metadata": {
        "id": "z24YUfuA9rUq"
      },
      "source": [
        "**Критерии оценивания:**\n",
        "\n",
        "- Задание выполнено верно, учтены все условия (**2 балла**): \n",
        "    * правильно построена модель полиномиальной регрессии (линейной регрессии на полиномиальных признаках) с регуляризацией (Lasso), учтены условия необходимости масштабирования факторов для построения модели;\n",
        "    * приведён код для подбора параметра регуляризации (вручную или с помощью библиотечных инструментов);\n",
        "    * с помощью кросс-валидации оценено среднее значение выбранной студентом метрики (или метрик) на тренировочных и валидационных фолдах (метрика должна быть выбрана корректно).\n",
        "\n",
        "- Задание выполнено верно, но не учтено одно из условий (**1 балл**).\n",
        "- Задание выполнено неверно, не учтено несколько условий (**0 баллов**)."
      ]
    },
    {
      "cell_type": "code",
      "execution_count": 12,
      "id": "IJ5b5G8qFz-r",
      "metadata": {
        "id": "IJ5b5G8qFz-r"
      },
      "outputs": [
        {
          "name": "stdout",
          "output_type": "stream",
          "text": [
            "MAE  на тренировочных фолдах:= -75.23378923416415\n",
            "MAE на валидационных фолдах= -91.65564775980287\n",
            "MSE  на тренировочных фолдах:= -10556.224033144052\n",
            "MSE на валидационных фолдах= -15314.254494651494\n",
            "MAPE  на тренировочных фолдах:= -1.77\n",
            "MAPE на валидационных фолдах= -2.2\n"
          ]
        }
      ],
      "source": [
        "# Ваш код здесь\n",
        "\n",
        "LassoRegression = Lasso(max_iter=1000000)\n",
        "hyperParameters = {'alpha': [0.1,0.2,0.3,0.4,0.5,0.6,0.7,0.8,9.2,1,5,10]}\n",
        "LassoRegressor = GridSearchCV(LassoRegression, hyperParameters, scoring='neg_mean_squared_error', cv=5)\n",
        "LassoRegressor.fit(X_poly,y)\n",
        "\n",
        "# оцениваем качество модели на кросс-валидации\n",
        "cv_results = cross_validate(LassoRegressor, X_poly, y,  scoring=('neg_mean_absolute_error', 'neg_mean_squared_error','neg_mean_absolute_percentage_error'), cv=5, return_train_score=True)\n",
        "print('MAE  на тренировочных фолдах:=',cv_results['train_neg_mean_absolute_error'].mean())\n",
        "print('MAE на валидационных фолдах=',cv_results['test_neg_mean_absolute_error'].mean())\n",
        "print('MSE  на тренировочных фолдах:=',cv_results['train_neg_mean_squared_error'].mean())\n",
        "print('MSE на валидационных фолдах=',cv_results['test_neg_mean_squared_error'].mean())\n",
        "print('MAPE  на тренировочных фолдах:=',round(cv_results['train_neg_mean_absolute_percentage_error'].mean()*100,2))\n",
        "print('MAPE на валидационных фолдах=',round(cv_results['test_neg_mean_absolute_percentage_error'].mean()*100,2))"
      ]
    },
    {
      "cell_type": "markdown",
      "id": "Se0OGR8UF2Td",
      "metadata": {
        "id": "Se0OGR8UF2Td"
      },
      "source": [
        "> *Ваши выводы здесь*\n",
        "\n",
        "Видим, что с помощью - L1 -регуляризации удалось значительно уменьшить ошибки модели (MAPE,MSE,MAE) на валидационных фолдах."
      ]
    },
    {
      "cell_type": "markdown",
      "id": "2975ae60",
      "metadata": {
        "id": "2975ae60"
      },
      "source": [
        "### Задание 8.3. (2 балла)\n",
        "\n",
        "Проделаем то же самое с $L_2$-регуляризацией.\n",
        "\n",
        "Обучите модель `Ridge` из библиотеки `sklearn` на полученных полиномиальных факторах, предварительно стандартизировав факторы. \n",
        "\n",
        "Коэффициент регуляризации (`alpha`) подберите самостоятельно с помощью любого известного вам метода подбора гиперпаметров.\n",
        "\n",
        "Используя кросс-валидацию оцените среднее значение выбранной вами метрики (или метрик) на тренировочных и валидационных фолдах.\n",
        "\n",
        "Проинтерпретируйте полученные результаты."
      ]
    },
    {
      "cell_type": "code",
      "execution_count": 13,
      "id": "UfPGyNsjGGS8",
      "metadata": {
        "id": "UfPGyNsjGGS8"
      },
      "outputs": [
        {
          "name": "stdout",
          "output_type": "stream",
          "text": [
            "MAE  на тренировочных фолдах:= -64.24683115171759\n",
            "MAE на валидационных фолдах= -105.24815834748503\n",
            "MSE  на тренировочных фолдах:= -7448.508519072934\n",
            "MSE на валидационных фолдах= -19254.53326206904\n",
            "MAPE  на тренировочных фолдах:= -1.51\n",
            "MAPE на валидационных фолдах= -2.57\n"
          ]
        }
      ],
      "source": [
        "# Ваш код здесь\n",
        "\n",
        "RidgeRegression = Ridge(max_iter=1000000)\n",
        "hyperParameters = {'alpha': [0.1,0.2,0.3,0.4,0.5,0.6,0.7,0.8,9.2,1,5,10,100,200,300,400,500,1000,2000]}\n",
        "RidgeRegressor = GridSearchCV(RidgeRegression, hyperParameters, scoring='neg_mean_squared_error', cv=5)\n",
        "RidgeRegressor.fit(X_poly,y)\n",
        "\n",
        "# оцениваем качество модели на кросс-валидации\n",
        "cv_results = cross_validate(RidgeRegressor, X_poly, y,  scoring=('neg_mean_absolute_error', 'neg_mean_squared_error','neg_mean_absolute_percentage_error'), cv=5, return_train_score=True)\n",
        "print('MAE  на тренировочных фолдах:=',cv_results['train_neg_mean_absolute_error'].mean())\n",
        "print('MAE на валидационных фолдах=',cv_results['test_neg_mean_absolute_error'].mean())\n",
        "print('MSE  на тренировочных фолдах:=',cv_results['train_neg_mean_squared_error'].mean())\n",
        "print('MSE на валидационных фолдах=',cv_results['test_neg_mean_squared_error'].mean())\n",
        "print('MAPE  на тренировочных фолдах:=',round(cv_results['train_neg_mean_absolute_percentage_error'].mean()*100,2))\n",
        "print('MAPE на валидационных фолдах=',round(cv_results['test_neg_mean_absolute_percentage_error'].mean()*100,2))"
      ]
    },
    {
      "cell_type": "markdown",
      "id": "dQBd7ny_GIi1",
      "metadata": {
        "id": "dQBd7ny_GIi1"
      },
      "source": [
        "> *Ваши выводы здесь*\n",
        "\n",
        "видим, что  L2 - регуляризация позволила уменьшить разрыв между  ошибками модели на тренировочных и валидационных данных. но значительно меньше, чем на L1 - регуляризация\n"
      ]
    },
    {
      "cell_type": "markdown",
      "id": "86pXnWE7-5ch",
      "metadata": {
        "id": "86pXnWE7-5ch"
      },
      "source": [
        "**Критерии оценивания:**\n",
        "\n",
        "- Задание выполнено верно, учтены все условия (**2 балла**): \n",
        "    * правильно построена модель полиномиальной регрессии (линейной регрессии на полиномиальных признаках) с регуляризацией (Ridge), учтены условия необходимости масштабирования факторов для построения модели;\n",
        "    * приведён код для подбора параметра регуляризации (вручную или с помощью библиотечных инструментов);\n",
        "    * с помощью кросс-валидации оценено среднее значение выбранной студентом метрики (или метрик) на тренировочных и валидационных фолдах (метрика должна быть выбрана корректно).\n",
        "\n",
        "- Задание выполнено верно, но не учтено одно из условий (**1 балл**).\n",
        "- Задание выполнено неверно, не учтено несколько условий (**0 баллов**)."
      ]
    },
    {
      "cell_type": "markdown",
      "id": "7ad85b78",
      "metadata": {
        "id": "7ad85b78"
      },
      "source": [
        "### Задание 8.4. (2 балла)\n",
        "\n",
        "Наконец, настало время комбинировать $L_1$ и $L_2$ -регуляризации.\n",
        "\n",
        "Обучите модель `ElasticNet` из библиотеки `sklearn` на полученных полиномиальных факторах, предварительно стандартизировав факторы. \n",
        "\n",
        "Коэффициенты регуляризации (`alpha` и `l1-ratio`) подберите самостоятельно с помощью любого известного вам метода подбора гиперпаметров.\n",
        "\n",
        "Используя кросс-валидацию, оцените среднее значение метрики MAPE на тренировочных и валидационных фолдах.\n",
        "\n",
        "Проинтерпретируйте полученные результаты."
      ]
    },
    {
      "cell_type": "markdown",
      "id": "sy8ESceQ-__u",
      "metadata": {
        "id": "sy8ESceQ-__u"
      },
      "source": [
        "**Критерии оценивания:**\n",
        "\n",
        "- Задание выполнено верно, учтены все условия (**2 балла**): \n",
        "    * правильно построена модель полиномиальной регрессии (линейной регрессии на полиномиальных признаках) с регуляризацией (ElasticNet), учтены условия необходимости масштабирования факторов для построения модели;\n",
        "    * приведён код для подбора параметра регуляризации (вручную или с помощью библиотечных инструментов);\n",
        "    * с помощью кросс-валидации оценено среднее значение выбранной студентом метрики (или метрик) на тренировочных и валидационных фолдах (метрика должна быть выбрана корректно).\n",
        "\n",
        "- Задание выполнено верно, но не учтено одно из условий (**1 балл**).\n",
        "- Задание выполнено неверно, не учтено несколько условий (**0 баллов**)."
      ]
    },
    {
      "cell_type": "code",
      "execution_count": 14,
      "id": "-Yi3P20hQnLS",
      "metadata": {
        "id": "-Yi3P20hQnLS"
      },
      "outputs": [
        {
          "name": "stdout",
          "output_type": "stream",
          "text": [
            "MAE  на тренировочных фолдах:= -75.92941669821677\n",
            "MAE на валидационных фолдах= -92.42916082513042\n",
            "MSE  на тренировочных фолдах:= -10754.306256037566\n",
            "MSE на валидационных фолдах= -15572.965822421018\n",
            "MAPE  на тренировочных фолдах:= -1.79\n",
            "MAPE на валидационных фолдах= -2.22\n"
          ]
        }
      ],
      "source": [
        "# Ваш код здесь\n",
        "\n",
        "ElasticNetRegression = ElasticNet(max_iter=1000000,)\n",
        "hyperParameters = {'alpha': [0.1,0.2,0.3,0.4,0.5,0.6,0.7,0.8,0.9,1,5,10],\n",
        "                   'l1_ratio' :[0.1,0.2,0.3,0.4,0.5,0.6,0.7,0.8,0.9,1]}\n",
        "ElasticNetRegressor = GridSearchCV(ElasticNetRegression, hyperParameters, scoring='neg_mean_squared_error', cv=5)\n",
        "ElasticNetRegressor.fit(X_poly,y)\n",
        "\n",
        "# оцениваем качество модели на кросс-валидации\n",
        "cv_results = cross_validate(ElasticNetRegressor, X_poly, y,  scoring=('neg_mean_absolute_error', 'neg_mean_squared_error','neg_mean_absolute_percentage_error'), cv=5, return_train_score=True)\n",
        "print('MAE  на тренировочных фолдах:=',cv_results['train_neg_mean_absolute_error'].mean())\n",
        "print('MAE на валидационных фолдах=',cv_results['test_neg_mean_absolute_error'].mean())\n",
        "print('MSE  на тренировочных фолдах:=',cv_results['train_neg_mean_squared_error'].mean())\n",
        "print('MSE на валидационных фолдах=',cv_results['test_neg_mean_squared_error'].mean())\n",
        "print('MAPE  на тренировочных фолдах:=',round(cv_results['train_neg_mean_absolute_percentage_error'].mean()*100,2))\n",
        "print('MAPE на валидационных фолдах=',round(cv_results['test_neg_mean_absolute_percentage_error'].mean()*100,2))\n"
      ]
    },
    {
      "cell_type": "markdown",
      "id": "er2lAiE9QpAb",
      "metadata": {
        "id": "er2lAiE9QpAb"
      },
      "source": [
        "> *Ваши выводы здесь*\n",
        "\n",
        "Elastic-Net (эластичная сетка). Это комбинация - и -регуляризации. Получены результаты величины ошибок, которые чуть лучше L1 - регуляризации для данной выборки из генеральной совокупности.  \n",
        "и мы имеем хорошую стабильность модели "
      ]
    },
    {
      "cell_type": "markdown",
      "id": "91c6e1d1",
      "metadata": {
        "id": "91c6e1d1"
      },
      "source": [
        "### Задание 8.5. (1 балл)\n",
        "\n",
        "Завершением вашей работы будет сводная таблица результатов, которую вы представите на презентации заказчику Василию.\n",
        "\n",
        "Составьте таблицу (DataFrame) со следующими столбцами (имена столбцов выберите самостоятельно):\n",
        "* Наименование модели.\n",
        "* Гиперпараметры (коэффициенты регуляризации, если таковые имеются), если нет — оставьте ячейку пустой.\n",
        "* Использовались ли полиномиальные признаки при построении модели (Да/Нет или True/False).\n",
        "* Значение выбранной метрики на тренировочных фолдах при кросс-валидации модели.\n",
        "* Значение выбранной метрики на валидационных фолдах при кросс-валидации модели.\n",
        "\n",
        "Сделайте финальный вывод по проделанной работе. Какая линейная модель из тех, что мы рассмотрели, показала наилучший результат с точки зрения качества на валидационных фолдах, а также с точки зрения переобученности?"
      ]
    },
    {
      "cell_type": "markdown",
      "id": "OsFRaKkF_nLq",
      "metadata": {
        "id": "OsFRaKkF_nLq"
      },
      "source": [
        "**Критерии оценивания:**\n",
        "\n",
        "- Задание выполнено верно, учтены все условия (**1 балл**): \n",
        "    * верно составлена сводная таблица итоговых результатов построенных ранее моделей с указанными в задании столбцами;\n",
        "    * приведены итоговые выводы по проделанной работе, указано, какая из рассмотренных моделей показала наилучший результат.\n",
        "\n",
        "- Задание выполнено неверно, не учтено одно или несколько условий (**0 баллов**)."
      ]
    },
    {
      "cell_type": "code",
      "execution_count": 15,
      "id": "wRiys8lKQuqW",
      "metadata": {
        "id": "wRiys8lKQuqW"
      },
      "outputs": [
        {
          "data": {
            "text/html": [
              "<div>\n",
              "<style scoped>\n",
              "    .dataframe tbody tr th:only-of-type {\n",
              "        vertical-align: middle;\n",
              "    }\n",
              "\n",
              "    .dataframe tbody tr th {\n",
              "        vertical-align: top;\n",
              "    }\n",
              "\n",
              "    .dataframe thead th {\n",
              "        text-align: right;\n",
              "    }\n",
              "</style>\n",
              "<table border=\"1\" class=\"dataframe\">\n",
              "  <thead>\n",
              "    <tr style=\"text-align: right;\">\n",
              "      <th></th>\n",
              "      <th>Наименование модели</th>\n",
              "      <th>Гиперпараметры</th>\n",
              "      <th>Полиномиальные признаки</th>\n",
              "      <th>MAPE тренировочные,%</th>\n",
              "      <th>MAPE валидационные,%</th>\n",
              "    </tr>\n",
              "  </thead>\n",
              "  <tbody>\n",
              "    <tr>\n",
              "      <th>0</th>\n",
              "      <td>ElasticNet</td>\n",
              "      <td>{'alpha': 5, 'l1_ratio': 1}</td>\n",
              "      <td>True</td>\n",
              "      <td>1.79</td>\n",
              "      <td>2.22</td>\n",
              "    </tr>\n",
              "  </tbody>\n",
              "</table>\n",
              "</div>"
            ],
            "text/plain": [
              "  Наименование модели               Гиперпараметры  Полиномиальные признаки   \n",
              "0          ElasticNet  {'alpha': 5, 'l1_ratio': 1}                     True  \\\n",
              "\n",
              "  MAPE тренировочные,%  MAPE валидационные,%   \n",
              "0                  1.79                  2.22  "
            ]
          },
          "metadata": {},
          "output_type": "display_data"
        }
      ],
      "source": [
        "# Ваш код здесь\n",
        "result_data = {'Наименование модели': ['ElasticNet'],\n",
        "        'Гиперпараметры' : [ElasticNetRegressor.best_params_],\n",
        "        'Полиномиальные признаки':[True],\n",
        "        'MAPE тренировочные,% ': ['1.79'],\n",
        "        'MAPE валидационные,% ': ['2.22']\n",
        "        }\n",
        "\n",
        "result = pd.DataFrame( result_data)\n",
        "\n",
        "display(result)\n"
      ]
    },
    {
      "cell_type": "markdown",
      "id": "UP7_LSoEQsrA",
      "metadata": {
        "id": "UP7_LSoEQsrA"
      },
      "source": [
        "> *Ваши выводы здесь*\n",
        "\n",
        "\n",
        "На основании проведенных исследований лучшей моделью оказалалсь ElasticNet с полиномиальным набором прнизнаков, при использовании для данного набора признаков.  \n",
        "признаки \"Perm — проницаемость скважины\" и \"Well — идентификатор скважины\" - не используются для предсказания "
      ]
    },
    {
      "cell_type": "code",
      "execution_count": null,
      "id": "752d4445-6a85-4cfb-b520-7b7b0f9a5b20",
      "metadata": {
        "id": "752d4445-6a85-4cfb-b520-7b7b0f9a5b20"
      },
      "outputs": [],
      "source": []
    }
  ],
  "metadata": {
    "colab": {
      "provenance": []
    },
    "kernelspec": {
      "display_name": "Python 3.10.8 ('base')",
      "language": "python",
      "name": "python3"
    },
    "language_info": {
      "codemirror_mode": {
        "name": "ipython",
        "version": 3
      },
      "file_extension": ".py",
      "mimetype": "text/x-python",
      "name": "python",
      "nbconvert_exporter": "python",
      "pygments_lexer": "ipython3",
      "version": "3.11.8"
    },
    "vscode": {
      "interpreter": {
        "hash": "86c56a74836ad344b00594bf6f38fa6a676a207ceefe20d101fbc465800ccb8d"
      }
    }
  },
  "nbformat": 4,
  "nbformat_minor": 5
}
